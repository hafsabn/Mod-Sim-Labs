{
 "cells": [
  {
   "cell_type": "markdown",
   "metadata": {
    "id": "Im2Mmg04EkJB"
   },
   "source": [
    "<figure>\n",
    "  <IMG src=\"figures/logo-esi-sba.png\" WIDTH=300 height=\"100\" ALIGN=\"right\">\n",
    "</figure>\n",
    "\n",
    "# Practical Trainining Series on Modeling And Simulation   \n",
    "*By Dr. Belkacem KHALDI (b.khaldi@esi-sba.dz)*"
   ]
  },
  {
   "cell_type": "markdown",
   "metadata": {
    "id": "VCoTk4fMEkJB"
   },
   "source": [
    "## Notebook 3: Probabilities and Random Number Simulation\n",
    "In this Notebook you learn how to deal with Probabilities and Random Number Simulation. Many of the functions we will use are included in the `random` subpackage of `numpy`. We will import this package and call it `rnd` so that we don't have to type `np.random`. all the time."
   ]
  },
  {
   "cell_type": "code",
   "execution_count": 1,
   "metadata": {
    "id": "lTjkPDt4EkJR"
   },
   "outputs": [],
   "source": [
    "%matplotlib inline\n",
    "import numpy as np\n",
    "import matplotlib.pyplot as plt\n",
    "import numpy.random as rnd"
   ]
  },
  {
   "cell_type": "markdown",
   "metadata": {
    "id": "TGXTqwsQEkJR"
   },
   "source": [
    "### 1- Introduction to Probability\n",
    "Probability is a means of determining and describing the likelihood of an event occurring or the truth of a situation. It's a helpful mathematical tool for coping with unpredictability and uncertainty.\n",
    "\n",
    "### Exemple 1: Tossing a coin\n",
    "Currency coins are often said to have two sides: a \"head\" and a \"tail\"\n",
    "\n",
    "<figure>\n",
    "  <IMG src=\"figures/coin-100dz.jpeg\" WIDTH=300 height=\"100\" ALIGN=\"right\">\n",
    "</figure>\n",
    "\n",
    "A fair coin is one that is equally likely to land on either side when tossed or flipped. The side that shows up on top once the coin lands is referred to as the result of a coin toss/flip.\n",
    "    \n",
    "If we have precise measurements of the physical environment and the forces used to toss the coin, we may be able to predict the outcome. However, we rarely have access to this information, making it difficult (if not impossible) to execute all of these measurements with adequate precision.\n",
    "    \n",
    "The assumption of randomness allows you to deal with limited data and unpredictable outcomes. Tossing a coin is described as an experiment that can yield one of two outcomes at random. Probability is a metric for determining how likely each outcome is.\n",
    "\n",
    "> **Question**: If you flip a fair coin, what is the **probability** of **getting heads**?\n",
    "\n",
    "When we have several equally likely possible outcomes, the probability of a condition (also called event) is defined as:\n",
    "\n",
    "> $$P(\\textrm{condition}) = \\frac{\\textrm{ No. of outcomes satisfying the condition }} {\\textrm{Number of equally likely outcomes}}$$\n",
    "\n",
    "**The probability of a condition/event is a number between 0 and 1.**\n",
    "\n",
    "\n",
    "We can define a function `probability` to perform this calculation."
   ]
  },
  {
   "cell_type": "code",
   "execution_count": 2,
   "metadata": {
    "id": "ZmnEokrmEkJR"
   },
   "outputs": [],
   "source": [
    "def probability(matching_outcomes, total_outcomes):\n",
    "    return matching_outcomes/total_outcomes"
   ]
  },
  {
   "cell_type": "markdown",
   "metadata": {
    "id": "lCRJ-Q22EkJR"
   },
   "source": [
    "When we toss a fair coin, there are just two conceivable outcomes: \"head\" or \"tail,\" both equally likely. One of the outcomes matches the condition \"getting a head\".\n",
    "\n",
    "With this information, we can now use the formula to compute the probability of a getting a head."
   ]
  },
  {
   "cell_type": "code",
   "execution_count": 3,
   "metadata": {
    "colab": {
     "base_uri": "https://localhost:8080/"
    },
    "id": "PgMWjYYZEkJR",
    "outputId": "087bfccf-4185-42e8-927f-f6c444d0685a"
   },
   "outputs": [
    {
     "name": "stdout",
     "output_type": "stream",
     "text": [
      "The probability of getting a head: 0.5\n"
     ]
    }
   ],
   "source": [
    "p_head = probability(matching_outcomes=1, total_outcomes=2)\n",
    "print(\"The probability of getting a head:\", p_head)"
   ]
  },
  {
   "cell_type": "markdown",
   "metadata": {
    "id": "2IBIlND2EkJR"
   },
   "source": [
    "### Challenge 1\n",
    "Using the `probability` function mention above, compute the probability of the following queries when you flip a fair coin:\n",
    "<ol>\n",
    "  <li>What is the probability  of getting a tail ? </li>\n",
    "  <li>What is the probability of getting a head or a tail?</li>\n",
    "  <li>What is the probability of receiving neither a head nor a tail?</li>\n",
    "</ol>\n",
    "   "
   ]
  },
  {
   "cell_type": "code",
   "execution_count": 4,
   "metadata": {
    "id": "38_KOfY2EkJR"
   },
   "outputs": [
    {
     "name": "stdout",
     "output_type": "stream",
     "text": [
      "The probability of getting a tail: 0.5\n",
      "The probability of getting a head or tail: 1.0\n",
      "The probability of  receiving neither a head nor a tail: 0.0\n"
     ]
    }
   ],
   "source": [
    "#Your solutions here\n",
    "p_tail = probability(matching_outcomes=1, total_outcomes=2)\n",
    "print(\"The probability of getting a tail:\", p_tail)\n",
    "\n",
    "# p(A ou B) = p(A) + p(B) - p(A et B)\n",
    "p_head_or_tail = p_head + p_tail - probability(matching_outcomes = 0, total_outcomes=2)\n",
    "print(\"The probability of getting a head or tail:\", p_head_or_tail)\n",
    "\n",
    "p_non_head_ou_non_tail = 1 - p_head_or_tail\n",
    "print(\"The probability of  receiving neither a head nor a tail:\", p_non_head_ou_non_tail)"
   ]
  },
  {
   "cell_type": "markdown",
   "metadata": {
    "id": "7dDKn8QCEkJR"
   },
   "source": [
    "### Exemple 2: Rolling dice\n",
    "\n",
    "A die (plural dice) is a 6-sided cube with a varied number of dots on each face (one to six). The number of dots that appear on the top face of a die after it has been rolled or thrown is known as the result of the roll/throw. As a result, a die throw can result in one of the following outcomes: 1, 2, 3, 4, 5, or 6.\n",
    "\n",
    "<img src=\"figures/one-dice.jpg\" width=\"100\">\n",
    "\n",
    "> **Question**: What is the probability of getting a four when a fair die is rolled?\n",
    "\n",
    "All outcomes are equally likely for a fair die, and the only the outcome 4 satisfies the condition \"getting a 4\". Thus, we can calculate the probability of the condition as follows:"
   ]
  },
  {
   "cell_type": "code",
   "execution_count": 5,
   "metadata": {
    "colab": {
     "base_uri": "https://localhost:8080/"
    },
    "id": "W8jK3IioEkJR",
    "outputId": "bbd95e6f-1400-4cef-a9be-354c90cc3f7f"
   },
   "outputs": [
    {
     "name": "stdout",
     "output_type": "stream",
     "text": [
      "The probability of getting a 4: 0.16666666666666666\n"
     ]
    }
   ],
   "source": [
    "p_die_4 =probability(matching_outcomes=1, total_outcomes=6)\n",
    "print(\"The probability of getting a 4:\", p_die_4)"
   ]
  },
  {
   "cell_type": "markdown",
   "metadata": {
    "id": "clasSQUDEkJR"
   },
   "source": [
    "### Challenge 2\n",
    "Compute the probability of the following queries when rolling a die:\n",
    "\n",
    "<ol>\n",
    "  <li>What is the probability of getting <b> an even number </b>? </li>\n",
    "  <li>What is the probability of getting <b>a three or a six </b>?</li>\n",
    "  <li>What is the probability of getting <b>a three and a six</b>?</li>\n",
    "   <li> What is the probability of getting <b> a three or a seven</b>?</li>\n",
    "</ol>"
   ]
  },
  {
   "cell_type": "code",
   "execution_count": 6,
   "metadata": {
    "id": "EzA-k4ujEkJR"
   },
   "outputs": [
    {
     "name": "stdout",
     "output_type": "stream",
     "text": [
      "The probability of getting an even number: 0.5\n",
      "The probability of getting a three or a six : 0.3333333333333333\n",
      "The probability of getting a three and a six: 0.0\n",
      "The probability of getting  a three or a seven: 0.16666666666666666\n"
     ]
    }
   ],
   "source": [
    "#Your Solutions Here\n",
    "p_even_number = probability(matching_outcomes=3, total_outcomes=6)\n",
    "print(\"The probability of getting an even number:\", p_even_number)\n",
    "\n",
    "p_three_or_six  = probability(matching_outcomes = 2, total_outcomes=6)\n",
    "print(\"The probability of getting a three or a six :\", p_three_or_six)\n",
    "\n",
    "p_three = p_even_number = probability(matching_outcomes=1, total_outcomes=6)\n",
    "p_six = p_even_number = probability(matching_outcomes=1, total_outcomes=6)\n",
    "p_three_and_six = p_three + p_six - p_three_or_six\n",
    "print(\"The probability of getting a three and a six:\", p_three_and_six)\n",
    "\n",
    "p_three_or_seven = probability(matching_outcomes=1, total_outcomes=6)\n",
    "print(\"The probability of getting  a three or a seven:\", p_three_or_seven)"
   ]
  },
  {
   "cell_type": "markdown",
   "metadata": {
    "id": "XLZt7SKYEkJR"
   },
   "source": [
    "### Exemple 3: Playing Cards\n",
    "\n",
    "<img src=\"figures/deck_cards.jpg\" width=\"200\">\n",
    "\n",
    "There are 52 cards in a deck of playing cards. Each card is assigned to one of four suits: Spade ♠️, Clubs ♣️, Hearts ♥️ or Diamonds ♦️. Each suit consists of 13 cards: *Ace, 2, 3, 4, 5, 6, 7, 8, 9, 10, Jack, Queen*, and *King*. Hearts and diamonds are red, but spades and clubs are black.\n",
    "\n",
    "<img src=\"figures/playing_cards_deck.svg.png\" >\n",
    "\n",
    "\n",
    "\n",
    "\n",
    "In a well-shuffled deck of cards, any card is equally likely to end up at any position in the deck.\n",
    "\n",
    "<img src=\"figures/giphy.gif\" >\n",
    "\n",
    "\n",
    "> **Question**: What is the probability of **drawing a King of Hearts** from a well-shuffled deck of cards?\n",
    "\n",
    "There are 52 equally likely outcomes of the card being drawn, and just one outcome matches this condition."
   ]
  },
  {
   "cell_type": "code",
   "execution_count": 7,
   "metadata": {
    "colab": {
     "base_uri": "https://localhost:8080/"
    },
    "id": "FVWEsCxmEkJR",
    "outputId": "0ac40093-5b43-4888-ab55-4b8537849768"
   },
   "outputs": [
    {
     "name": "stdout",
     "output_type": "stream",
     "text": [
      "The probability of getting a King of Hearts: 0.019230769230769232\n"
     ]
    }
   ],
   "source": [
    "p_king_of_hearts=probability(matching_outcomes=1, total_outcomes=52)\n",
    "print(\"The probability of getting a King of Hearts:\", p_king_of_hearts)"
   ]
  },
  {
   "cell_type": "markdown",
   "metadata": {
    "id": "eOZRRP5jEkJR"
   },
   "source": [
    "### Challenge 3\n",
    "What is the probability of **drawing a red card** from a well-shuffled deck of cards.\n",
    "\n",
    "> *Hint*: Count the number of red cards.\n",
    "\n",
    "What is the probability of **drawing a spade ♠️** from a well-shuffled deck of cards.\n",
    "\n",
    "What is the probability of **drawing a 7** from a well-shuffled deck of cards.\n",
    "\n",
    "What is the probability of **drawing a card that's a spade and a jack** from a well-shuffled deck of cards?"
   ]
  },
  {
   "cell_type": "code",
   "execution_count": 8,
   "metadata": {
    "id": "ser-NIvZEkJR"
   },
   "outputs": [
    {
     "name": "stdout",
     "output_type": "stream",
     "text": [
      "The probability of drawing a red card: 0.5\n",
      "The probability of drawing a spade: 0.25\n",
      "The probability of drawing a 7: 0.07692307692307693\n",
      "The probability of drawing a card that's a spade and a jack: 0.019230769230769232\n"
     ]
    }
   ],
   "source": [
    "# Your Solutions Here\n",
    "p_red = probability(26, 52)\n",
    "print(\"The probability of drawing a red card:\", p_red)\n",
    "\n",
    "p_spade = probability(13, 52)\n",
    "print(\"The probability of drawing a spade:\", p_spade)\n",
    "\n",
    "p_seven = probability(4, 52)\n",
    "print(\"The probability of drawing a 7:\", p_seven)\n",
    "\n",
    "p_spade_and_jack = probability(1, 52)\n",
    "print(\"The probability of drawing a card that's a spade and a jack:\", p_spade_and_jack)"
   ]
  },
  {
   "cell_type": "markdown",
   "metadata": {
    "id": "kN80WERmEkJR"
   },
   "source": [
    "### Bayes's Theorem\n",
    "\n",
    "There are two ways to think about Bayes's Theorem:\n",
    "\n",
    "* It is a divide-and conquer strategy for computing conditional probabilities.  If it's hard to compute $P(A|B)$ directly, sometimes it is easier to compute the terms on the other side of the equation: $P(A)$, $P(B|A)$, and $P(B)$.\n",
    "\n",
    "* It is also a recipe for updating beliefs in the light of new data.\n",
    "\n",
    "When we are working with the second interpretation, we often write Bayes's Theorem with different variables.  Instead of $A$ and $B$, we use $H$ and $D$, where\n",
    "\n",
    "* $H$ stands for \"hypothesis\", and\n",
    "\n",
    "* $D$ stands for \"data\".\n",
    "\n",
    "So we write Bayes's Theorem like this:\n",
    "\n",
    "$P(A|B) =\\frac{P(A) ~ P(B|A)}{P(B)}$\n",
    "\n",
    "$P(H|D) =\\frac{P(H) ~ P(D|H)}{P(D)}$\n",
    "\n",
    "In this context, each term has a name:\n",
    "\n",
    "* $P(H)$ is the \"prior probability\" of the hypothesis, which represents how confident you are that $H$ is true prior to seeing the data,\n",
    "\n",
    "* $P(D|H)$ is the \"likelihood\" of the data, which is the probability of seeing $D$ if the hypothesis is true,\n",
    "\n",
    "* $P(D)$ is the \"total probability of the data\", that is, the chance of seeing $D$ regardless of whether $H$ is true or not.\n",
    "\n",
    "* $P(H|D)$ is the \"posterior probability\" of the hypothesis, which indicates how confident you should be that $H$ is true after taking the data into account.\n",
    "\n",
    "An example will make all of this clearer."
   ]
  },
  {
   "cell_type": "markdown",
   "metadata": {
    "id": "gI32GW57EkJR"
   },
   "source": [
    "### The cookie problem\n",
    "\n",
    "\n",
    "> Suppose you have two bowls of cookies.  Bowl 1 contains 30 vanilla and 10 chocolate cookies.  Bowl 2 contains 20 of each kind.\n",
    ">\n",
    "> You choose one of the bowls at random and, without looking into the bowl, choose one of the cookies at random.  It turns out to be a vanilla cookie.\n",
    ">\n",
    "> What is the chance that you chose Bowl 1?\n",
    "\n",
    "We'll assume that there was an equal chance of choosing either bowl and an equal chance of choosing any cookie in the bowl."
   ]
  },
  {
   "cell_type": "markdown",
   "metadata": {
    "id": "B1C7l8vWEkJR"
   },
   "source": [
    "We can solve this problem using Bayes's Theorem. First, I'll define  $H$  and  $D$ :\n",
    "\n",
    "$H$  is the hypothesis that the bowl you chose is Bowl 1.\n",
    "\n",
    "$D$  is the data that the cookie is vanilla.\n",
    "\n",
    "What we want is the posterior probability of  $H$ , which is  $P(H|D)$ . It is not obvious how to compute it directly, but if we can figure out the terms on the right-hand side of Bayes's Theorem, we can get to it indirectly.\n",
    "\n",
    "$P(H)$ is the prior probability of $H$, which is the probability of choosing Bowl 1 before we see the data. If there was an equal chance of choosing either bowl, $P(H)$ is 1/2.\n",
    "\n",
    "$P(D|H)$ is the likelihood of the data, which is the chance of getting a vanilla cookie if $H$ is true, in other words, the chance of getting a vanilla cookie from Bowl 1, which is 30/40.\n",
    "\n",
    "$P(D)$ is the total probability of the data, which is the chance of getting a vanilla cookie whether $𝐻$ is true or not. In this example, we can figure out $P(D)$ directly: because the bowls are equally likely, and they contain the same number of cookies, you were equally likely to choose any cookie. Combining the two bowls, there are 50 vanilla and 30 chocolate cookies, so the probability of choosing a vanilla cookie is 50/80.\n",
    "\n",
    "Now that we have the terms on the right-hand side, we can use Bayes's Theorem to combine them."
   ]
  },
  {
   "cell_type": "code",
   "execution_count": 9,
   "metadata": {
    "colab": {
     "base_uri": "https://localhost:8080/"
    },
    "id": "SuQB3sM8EkJR",
    "outputId": "da229b50-03db-423f-a681-d95e72215620"
   },
   "outputs": [
    {
     "name": "stdout",
     "output_type": "stream",
     "text": [
      "The probability of choosing Bowl 1: 0.6\n"
     ]
    }
   ],
   "source": [
    "#𝑃(𝐻)\n",
    "prior = probability(matching_outcomes=1, total_outcomes=2)\n",
    "#𝑃(D|𝐻)\n",
    "likelihood =probability(matching_outcomes=30, total_outcomes=40)\n",
    "#𝑃(𝐷)\n",
    "prob_data = probability(matching_outcomes=50, total_outcomes=80)\n",
    "#computing 𝑃(𝐻|D)\n",
    "posterior = prior * likelihood / prob_data\n",
    "print(\"The probability of choosing Bowl 1:\", posterior)"
   ]
  },
  {
   "cell_type": "markdown",
   "metadata": {
    "id": "rbOP8-UjEkJR"
   },
   "source": [
    "The posterior probability is  0.6 , a little higher than the prior, which was  0.5 .\n",
    "\n",
    "So the vanilla cookie makes us a little more certain that we chose Bowl 1.\n",
    "\n",
    "### Challenge 4\n",
    "What if we had chosen a chocolate cookie instead; what would be the posterior probability of Bowl 1?"
   ]
  },
  {
   "cell_type": "code",
   "execution_count": 10,
   "metadata": {
    "id": "zc1D49qwEkJR"
   },
   "outputs": [
    {
     "name": "stdout",
     "output_type": "stream",
     "text": [
      "The probability of choosing Bowl 1: 0.3333333333333333\n"
     ]
    }
   ],
   "source": [
    "#Your solution here\n",
    "#p(B1)\n",
    "prior = probability(matching_outcomes=1, total_outcomes=2)\n",
    "#𝑃(C|B1)\n",
    "likelihood =probability(matching_outcomes=10, total_outcomes=40)\n",
    "#𝑃(C)\n",
    "prob_data = probability(matching_outcomes=30, total_outcomes=80)\n",
    "#computing 𝑃(B1|C)\n",
    "posterior = prior * likelihood / prob_data\n",
    "print(\"The probability of choosing Bowl 1:\", posterior)"
   ]
  },
  {
   "cell_type": "markdown",
   "metadata": {
    "id": "QTzuWUR_EkJR"
   },
   "source": [
    "### 2- Random Numbers Generation\n",
    "A random number generator lets you draw, at random, a number from a specified distribution. Several random number generators are included in the `random` subpackage of `numpy`.\n",
    "\n",
    "#### The random.random() function\n",
    " The `random.random()` function returns the next nearest  foating-point value from the generated sequence. All return values are enclosed between 0 and 1.0. Let's explore a practical example that uses this function:"
   ]
  },
  {
   "cell_type": "code",
   "execution_count": 11,
   "metadata": {
    "colab": {
     "base_uri": "https://localhost:8080/"
    },
    "id": "AlEYCiHpEkJR",
    "outputId": "e40f07b0-970a-4fdb-bfcb-4d864de3501e",
    "scrolled": true
   },
   "outputs": [
    {
     "name": "stdout",
     "output_type": "stream",
     "text": [
      "0.8485 0.9512 0.5759 0.2595 0.9538 0.3662 0.3907 0.8445 0.5342 0.5940 0.3890 0.5637 0.6684 0.4069 0.7246 0.1839 0.7566 0.5325 0.0225 0.0869 "
     ]
    }
   ],
   "source": [
    "for i in range(20):\n",
    "    print('%05.4f' % rnd.random(), end=' ')"
   ]
  },
  {
   "cell_type": "markdown",
   "metadata": {
    "id": "nOqkhUJeEkJR"
   },
   "source": [
    "In the above example, 20 pseudorandom numbers are generated. Each number is printed in a format that includes 5 digits, including 4 decimal places.\n",
    "If we call the random() function again, we get a different sequence numbers:"
   ]
  },
  {
   "cell_type": "code",
   "execution_count": 12,
   "metadata": {
    "colab": {
     "base_uri": "https://localhost:8080/"
    },
    "id": "NW7xelo4EkJR",
    "outputId": "90ff253e-5597-4536-a130-82461f71001f"
   },
   "outputs": [
    {
     "name": "stdout",
     "output_type": "stream",
     "text": [
      "0.0186 0.0981 0.3276 0.0364 0.8884 0.9659 0.4480 0.5325 0.5706 0.2915 0.0540 0.1347 0.1161 0.6809 0.1682 0.9771 0.0155 0.8834 0.4374 0.3517 "
     ]
    }
   ],
   "source": [
    "for i in range(20):\n",
    "    print('%05.4f' % rnd.random(), end=' ')"
   ]
  },
  {
   "cell_type": "markdown",
   "metadata": {
    "id": "PiTlJwyeEkJR"
   },
   "source": [
    "#### The random.seed() function\n",
    "Internally, the random number generator starts with what is called a `seed`. The `seed` is a number and is generated automatically (and supposedly at random) when you call the random number generator. The value of the seed exactly defines the sequence of random numbers that you get. For example, let's set seed equal to 1:"
   ]
  },
  {
   "cell_type": "code",
   "execution_count": 13,
   "metadata": {
    "colab": {
     "base_uri": "https://localhost:8080/"
    },
    "id": "u8mY60EBEkJR",
    "outputId": "1607666a-8012-48da-9a69-2795b81be06b"
   },
   "outputs": [
    {
     "name": "stdout",
     "output_type": "stream",
     "text": [
      "0.4170 0.7203 0.0001 0.3023 0.1468 0.0923 0.1863 0.3456 0.3968 0.5388 0.4192 0.6852 0.2045 0.8781 0.0274 0.6705 0.4173 0.5587 0.1404 0.1981 "
     ]
    }
   ],
   "source": [
    "rnd.seed(1)\n",
    "for i in range(20):\n",
    "    print('%05.4f' % rnd.random(), end=' ')"
   ]
  },
  {
   "cell_type": "markdown",
   "metadata": {
    "id": "ToDwkYKVEkJR"
   },
   "source": [
    "If we now specify the `seed` again as 1, the exact same sequence is generated again."
   ]
  },
  {
   "cell_type": "code",
   "execution_count": 14,
   "metadata": {
    "colab": {
     "base_uri": "https://localhost:8080/"
    },
    "id": "sVuy9XquEkJR",
    "outputId": "7cf910ad-5898-44c9-f2e8-e6f9ded83e2b"
   },
   "outputs": [
    {
     "name": "stdout",
     "output_type": "stream",
     "text": [
      "0.4170 0.7203 0.0001 0.3023 0.1468 0.0923 0.1863 0.3456 0.3968 0.5388 0.4192 0.6852 0.2045 0.8781 0.0274 0.6705 0.4173 0.5587 0.1404 0.1981 "
     ]
    }
   ],
   "source": [
    "rnd.seed(1)\n",
    "for i in range(20):\n",
    "    print('%05.4f' % rnd.random(), end=' ')"
   ]
  },
  {
   "cell_type": "markdown",
   "metadata": {
    "id": "_eRdaKjmEkJR"
   },
   "source": [
    "#### The random.uniform() function\n",
    "The `random.uniform()` function generates numbers within a defined numeric range. Let's look at an example:"
   ]
  },
  {
   "cell_type": "code",
   "execution_count": 15,
   "metadata": {
    "colab": {
     "base_uri": "https://localhost:8080/"
    },
    "id": "QRpkfbvfEkJR",
    "outputId": "3af26e96-94dd-40e8-c996-a2c31efeb7b7"
   },
   "outputs": [
    {
     "name": "stdout",
     "output_type": "stream",
     "text": [
      "80.2737 96.8579 32.0290 69.5399 87.7625 89.5661 9.4194 4.8664 17.8132 87.9361 10.7363 42.6897 95.8311 53.7834 69.4958 32.2360 68.9636 83.6279 2.8105 75.2643 "
     ]
    }
   ],
   "source": [
    "for i in range(20):\n",
    "    print('%6.4f' % rnd.uniform(1, 100), end=' ')"
   ]
  },
  {
   "cell_type": "markdown",
   "metadata": {
    "id": "V_cONPrvEkJR"
   },
   "source": [
    "In the above example, 20 random numbers are generated in the range of [1,100)\n",
    "\n",
    "#### The random.randint() function\n",
    "This function generates random integers.  The arguments for `randint()` are the values of the range, including the extremes.  The numbers may be negative or positive, but the  1st value should be less than the second. Let's look at an example:"
   ]
  },
  {
   "cell_type": "code",
   "execution_count": 16,
   "metadata": {
    "colab": {
     "base_uri": "https://localhost:8080/"
    },
    "id": "L2-Mpp_uEkJR",
    "outputId": "d1bbe712-1aea-427a-af1d-d70c8c7cfb90"
   },
   "outputs": [
    {
     "name": "stdout",
     "output_type": "stream",
     "text": [
      "-85 -36 96 -75 11 35 -74 53 4 -78 -91 95 26 -77 25 0 55 65 -43 -17 "
     ]
    }
   ],
   "source": [
    "for i in range(20):\n",
    "    print(rnd.randint(-100, 100), end=' ')"
   ]
  },
  {
   "cell_type": "markdown",
   "metadata": {
    "id": "2tVKJscREkJR"
   },
   "source": [
    "In the above example, 20 random integer numbers are generated in the range of [-100,100]\n",
    "\n",
    "#### The random.choice() function\n",
    "A common use for random number generators is to select a random element from a sequence of enumerated values, even if these values are not numbers.  The `choice()` function returns a random element of the non-empty sequence passed as an argument. This function is suitable to use in extracting values from a predetermined list:"
   ]
  },
  {
   "cell_type": "code",
   "execution_count": 17,
   "metadata": {
    "colab": {
     "base_uri": "https://localhost:8080/"
    },
    "id": "0M2s3n0XEkJR",
    "outputId": "bbbbd9c4-f642-4a1e-b775-03355f2d9031"
   },
   "outputs": [
    {
     "name": "stdout",
     "output_type": "stream",
     "text": [
      "Randomly selected item from Cities list is -  Los Angeles\n",
      "Randomly selected item from Cities list is -  Madrid\n",
      "Randomly selected item from Cities list is -  Rome\n",
      "Randomly selected item from Cities list is -  Algiers\n",
      "Randomly selected item from Cities list is -  Toronto\n"
     ]
    }
   ],
   "source": [
    "CitiesList = ['Rome','New York','Algiers','London','Berlin','Moskov',\n",
    "'Los Angeles','Paris','Madrid','Tokio','Toronto']\n",
    "for i in range(5):\n",
    "    CitiesItem = rnd.choice(CitiesList)\n",
    "    print (\"Randomly selected item from Cities list is - \",CitiesItem)"
   ]
  },
  {
   "cell_type": "markdown",
   "metadata": {
    "id": "JjYAsLSwEkJR"
   },
   "source": [
    "In the above example, 5 random elements are selected from the sequence list CitiesList. At each iteration of the cycle, a new element is extracted from the list containingthe names of the cities.\n",
    "\n",
    "#### Selecting n random values from an array\n",
    "Many simulations require random samples from a population of input values.  The `size` option in the `choice()` function is for that purpose. Let's look at an example:"
   ]
  },
  {
   "cell_type": "code",
   "execution_count": 18,
   "metadata": {
    "colab": {
     "base_uri": "https://localhost:8080/"
    },
    "id": "vmkaLPLiEkJR",
    "outputId": "b79ecea0-5830-4be1-82be-f35dcd89b49e"
   },
   "outputs": [
    {
     "name": "stdout",
     "output_type": "stream",
     "text": [
      "Initial Data List =  range(10, 100, 10)\n",
      "Sample Data List =  [80 80 80 40 10]\n"
     ]
    }
   ],
   "source": [
    "DataList = range(10,100,10)\n",
    "print(\"Initial Data List = \",DataList)\n",
    "DataSample = rnd.choice(DataList,size=5)\n",
    "print(\"Sample Data List = \",DataSample)"
   ]
  },
  {
   "cell_type": "markdown",
   "metadata": {
    "id": "0XN2aODIEkJh"
   },
   "source": [
    "In the above example, only 5 elements of the initial list were selected, and this selection was completely random.\n",
    "### 2- Exploring Probability Distributions\n",
    "#### Uniform Distribution\n",
    "This distribution generates random values uniformly distributed over the half-open interval [a,b).\n",
    "Any value within the given interval is equally likely to be drawn by uniform distribution. Let's look at an example:"
   ]
  },
  {
   "cell_type": "code",
   "execution_count": 19,
   "metadata": {
    "colab": {
     "base_uri": "https://localhost:8080/",
     "height": 430
    },
    "id": "-zwIQOvTEkJh",
    "outputId": "51bad96d-1000-4776-d829-32a224b40d8a"
   },
   "outputs": [
    {
     "data": {
      "image/png": "[encoded data removed]",
      "text/plain": [
       "<Figure size 640x480 with 1 Axes>"
      ]
     },
     "metadata": {},
     "output_type": "display_data"
    }
   ],
   "source": [
    "#Initializing uniform distribution parameters\n",
    "a=1\n",
    "b=100\n",
    "N=100\n",
    "#Randomly generate 100 numbers between a and b\n",
    "#using uniform distribution\n",
    "X1=rnd.uniform(a,b,N)\n",
    "#Ploting X1 using matplotlib.pyplot library\n",
    "plt.plot(X1)\n",
    "plt.show()"
   ]
  },
  {
   "cell_type": "markdown",
   "metadata": {
    "id": "DQI5KuxuEkJh"
   },
   "source": [
    "Lets now analyze how the generated values are distributed in the interval considered. We draw a graph of the probability density function as follows:"
   ]
  },
  {
   "cell_type": "code",
   "execution_count": 20,
   "metadata": {
    "colab": {
     "base_uri": "https://localhost:8080/",
     "height": 430
    },
    "id": "l8Yng-4WEkJh",
    "outputId": "8094722b-7a53-4dc7-a608-2ce6520813c1"
   },
   "outputs": [
    {
     "data": {
      "image/png": "[encoded data removed]",
      "text/plain": [
       "<Figure size 640x480 with 1 Axes>"
      ]
     },
     "metadata": {},
     "output_type": "display_data"
    }
   ],
   "source": [
    "plt.figure()\n",
    "plt.hist(X1, density=True, histtype='stepfilled',\n",
    "alpha=0.2)\n",
    "plt.show()"
   ]
  },
  {
   "cell_type": "markdown",
   "metadata": {
    "id": "XOQIXtrDEkJh"
   },
   "source": [
    "Here, we can see that the generated values are distributed almost evenly throughout the range.\n",
    "Let's now see What happens if we increase the number of generated values?\n",
    "Then, we repeat the commands to generate up to 10000 random numbers uniformly distributed between 1 and 100."
   ]
  },
  {
   "cell_type": "code",
   "execution_count": 21,
   "metadata": {
    "colab": {
     "base_uri": "https://localhost:8080/",
     "height": 843
    },
    "id": "_M6WXcahEkJh",
    "outputId": "1b69ae6d-a41b-4196-d893-19eaa1ec292a"
   },
   "outputs": [
    {
     "data": {
      "image/png": "[encoded data removed]",
      "text/plain": [
       "<Figure size 640x480 with 1 Axes>"
      ]
     },
     "metadata": {},
     "output_type": "display_data"
    },
    {
     "data": {
      "image/png": "[encoded data removed]",
      "text/plain": [
       "<Figure size 640x480 with 1 Axes>"
      ]
     },
     "metadata": {},
     "output_type": "display_data"
    }
   ],
   "source": [
    "a=1\n",
    "b=100\n",
    "N=10000\n",
    "\n",
    "X2=rnd.uniform(a,b,N)\n",
    "plt.figure()\n",
    "plt.plot(X2)\n",
    "plt.show()\n",
    "\n",
    "plt.figure()\n",
    "plt.hist(X2, density=True, histtype='stepfilled',\n",
    "alpha=0.2)\n",
    "plt.show()"
   ]
  },
  {
   "cell_type": "markdown",
   "metadata": {
    "id": "yrgNJisbEkJh"
   },
   "source": [
    "Analyzing the previous histogram and comparing it with what we obtained in the case of N=100, we can see that this time, the distribution appears to be  flatter.  The distribution becomes more and more  flat as N increases.\n",
    "#### Binomial distribution\n",
    "The binomial distribution is the probability of obtaining $x$ successes in $t$ independent trials and is computed as follows:\n",
    "\n",
    "$p(x) =  \\binom{t}{x} p^t(1-p)^{t-x}, 0\\leq x \\leq t $\n",
    "where: $\\binom{t}{x}=\\frac{t!}{(t-p)!p!}$\n",
    "\n",
    "\n",
    "##### Example:\n",
    "<figure>\n",
    "  <IMG src=\"figures/one-dice.jpg\" WIDTH=100  ALIGN=\"right\">\n",
    "</figure>\n",
    "We throw a dice $10$ times and we want to study the binomial variable $x$= {number of times a number<= 3 cames out}.  The parameters of the problem are:\n",
    "<ol>\n",
    "   <li>  $t=10$ </li>\n",
    "   <li>  $p=3*\\frac{1}{6}=0.5$ </li>\n",
    "   <li> $q=1-p=0.5$ </li>\n",
    "</ol>\n",
    "\n",
    "Let's now simulate this experiment:"
   ]
  },
  {
   "cell_type": "code",
   "execution_count": 22,
   "metadata": {
    "colab": {
     "base_uri": "https://localhost:8080/",
     "height": 430
    },
    "id": "0jkQ-VHeEkJh",
    "outputId": "881c49ce-a6a0-4279-d274-a90e847eee37"
   },
   "outputs": [
    {
     "data": {
      "image/png": "[encoded data removed]",
      "text/plain": [
       "<Figure size 640x480 with 1 Axes>"
      ]
     },
     "metadata": {},
     "output_type": "display_data"
    }
   ],
   "source": [
    "#Initializing Binomial distribution parameters\n",
    "N = 1000\n",
    "t = 10\n",
    "p = 0.5\n",
    "#Generate the Binomial probability distribution\n",
    "#Then Plot\n",
    "P1 = rnd.binomial(t,p,N)\n",
    "plt.plot(P1)\n",
    "plt.show()"
   ]
  },
  {
   "cell_type": "markdown",
   "metadata": {
    "id": "CzJ0o7NaEkJh"
   },
   "source": [
    "We now evaluate the probability density function as follows:"
   ]
  },
  {
   "cell_type": "code",
   "execution_count": 23,
   "metadata": {
    "colab": {
     "base_uri": "https://localhost:8080/",
     "height": 430
    },
    "id": "O1NBu-GoEkJh",
    "outputId": "62cb3727-f56c-49c6-a462-d34021c3c323"
   },
   "outputs": [
    {
     "data": {
      "image/png": "[encoded data removed]",
      "text/plain": [
       "<Figure size 640x480 with 1 Axes>"
      ]
     },
     "metadata": {},
     "output_type": "display_data"
    }
   ],
   "source": [
    "plt.figure()\n",
    "plt.hist(P1, density=True, alpha=0.8, histtype='bar',\n",
    "color = 'green', ec='black')\n",
    "plt.show()"
   ]
  },
  {
   "cell_type": "markdown",
   "metadata": {
    "id": "fCS6IwLiEkJh"
   },
   "source": [
    "We can see that all the areas of the binomial distributions, that is, the sum of the rectangles, being the sum of probability, are worth 1.\n",
    "\n",
    "#### Normal distribution\n",
    "The normal distribution is the most used continuous distribution in statistics. Recall that the probability density distribution of the normal distribution is given as follows:\n",
    "\n",
    "$f(x)=\\frac{1}{\\sqrt{2\\pi\\sigma^2}}e^{-(x-\\mu)^2/2\\sigma^2}$\n",
    "\n",
    "##### Example:\n",
    "The average height of $18$-year old boys of $1000$ boys is normally distributed with a mean of $180$ cm and a standard deviation of $7$ cm. The parameters of the problem are:\n",
    "<ol>\n",
    "   <li>  $\\mu=180$ </li>\n",
    "   <li>  $\\sigma=7$ </li>\n",
    "</ol>\n",
    "\n",
    "Now, let’s generate a normal distribution and evaluate the probability density function with Python code as follows"
   ]
  },
  {
   "cell_type": "code",
   "execution_count": 24,
   "metadata": {
    "colab": {
     "base_uri": "https://localhost:8080/",
     "height": 673
    },
    "id": "o5LxgSYqEkJh",
    "outputId": "48d47fc7-fda5-41e5-aeec-2744349597f9"
   },
   "outputs": [
    {
     "name": "stderr",
     "output_type": "stream",
     "text": [
      "C:\\Users\\hafsa\\AppData\\Local\\Temp\\ipykernel_12152\\1834162390.py:11: UserWarning: \n",
      "\n",
      "`distplot` is a deprecated function and will be removed in seaborn v0.14.0.\n",
      "\n",
      "Please adapt your code to use either `displot` (a figure-level function with\n",
      "similar flexibility) or `histplot` (an axes-level function for histograms).\n",
      "\n",
      "For a guide to updating your code to use the new functions, please see\n",
      "https://gist.github.com/mwaskom/de44147ed2974457ad6372750bbe5751\n",
      "\n",
      "  Plot = sns.distplot(P1)\n"
     ]
    },
    {
     "data": {
      "text/plain": [
       "<Figure size 640x480 with 0 Axes>"
      ]
     },
     "execution_count": 24,
     "metadata": {},
     "output_type": "execute_result"
    },
    {
     "data": {
      "image/png": "[encoded data removed]",
      "text/plain": [
       "<Figure size 640x480 with 1 Axes>"
      ]
     },
     "metadata": {},
     "output_type": "display_data"
    },
    {
     "data": {
      "text/plain": [
       "<Figure size 640x480 with 0 Axes>"
      ]
     },
     "metadata": {},
     "output_type": "display_data"
    }
   ],
   "source": [
    "import numpy as np\n",
    "import matplotlib.pyplot as plt\n",
    "import seaborn as sns\n",
    "#Initializing Normal distribution parameters\n",
    "mu = 180\n",
    "sigma =7\n",
    "N=1000\n",
    "#Generate the Normal probability distribution\n",
    "P1 = rnd.normal(mu, sigma, N)\n",
    "#Then Plot\n",
    "Plot = sns.distplot(P1)\n",
    "plt.figure()"
   ]
  },
  {
   "cell_type": "markdown",
   "metadata": {
    "id": "tCLVgpqnEkJh"
   },
   "source": [
    "We can see that the distribution of the 1000 samples populations follow a normal distribution as ploted by `sns.distplot()` function"
   ]
  },
  {
   "cell_type": "markdown",
   "metadata": {
    "id": "ytORZuPEEkJh"
   },
   "source": [
    "## Approximating Probability throught Simulation\n",
    "### Flipping a coin\n",
    " Let's flip a coin $n$ times and computes the probability via simulation by counting the number of heads (0) and the number of tails (1). Note that the theoritical probability of getting a head or tail when flipping a coin is $p(x=0)=p(x=1)=0.5$.To compute the probability via simulation, we apply the relative frequency and probability concept seen in the course:\n",
    " $f(E)=\\frac{v}{n}\\cong P(E)$.\n",
    " Where $v$ is number of the times the event $E$ occurred and $n$ the number of tests carried out"
   ]
  },
  {
   "cell_type": "code",
   "execution_count": 25,
   "metadata": {
    "colab": {
     "base_uri": "https://localhost:8080/",
     "height": 486
    },
    "id": "utXAePwEEkJh",
    "outputId": "c386ff56-8160-425d-b88b-3a0629863f87"
   },
   "outputs": [
    {
     "name": "stdout",
     "output_type": "stream",
     "text": [
      "outcome 0 is 55 with probability=0.55\n",
      "outcome 1 is 45 with probability=0.45\n"
     ]
    },
    {
     "data": {
      "image/png": "[encoded data removed]",
      "text/plain": [
       "<Figure size 640x480 with 1 Axes>"
      ]
     },
     "metadata": {},
     "output_type": "display_data"
    }
   ],
   "source": [
    "rnd.seed(10)\n",
    "n=100\n",
    "flip = rnd.randint(0, 2, n)\n",
    "\n",
    "outcomes = np.zeros(2, dtype='int') # Two outcomes. heads are stored in outcome[0], tails in outcome[1]\n",
    "for i in range (2):\n",
    "    outcomes[i] = np.count_nonzero(flip == i)\n",
    "    print(f'outcome {i} is {outcomes[i]} with probability={outcomes[i]/n}')\n",
    "\n",
    "plt.bar(range(0, 2), outcomes/n)\n",
    "plt.xticks(range(0, 2))\n",
    "plt.xlabel('Probability of Head/tails')\n",
    "plt.ylabel('occurence in '+str(n)+' trials');"
   ]
  },
  {
   "cell_type": "markdown",
   "metadata": {
    "id": "pAho_30rEkJh"
   },
   "source": [
    "Now let's increase the numner of experiments and plot the probability simulation results"
   ]
  },
  {
   "cell_type": "code",
   "execution_count": 26,
   "metadata": {
    "colab": {
     "base_uri": "https://localhost:8080/",
     "height": 468
    },
    "id": "T4Qji7voEkJh",
    "outputId": "daa9218a-d86b-42ce-e218-8a8a4036e825"
   },
   "outputs": [
    {
     "data": {
      "text/plain": [
       "<matplotlib.legend.Legend at 0x1c17dff5df0>"
      ]
     },
     "execution_count": 26,
     "metadata": {},
     "output_type": "execute_result"
    },
    {
     "data": {
      "image/png": "[encoded data removed]",
      "text/plain": [
       "<Figure size 640x480 with 1 Axes>"
      ]
     },
     "metadata": {},
     "output_type": "display_data"
    }
   ],
   "source": [
    "experiments=np.arange(100, 100001, 100)\n",
    "\n",
    "outcomes_head=np.zeros(len(experiments))\n",
    "outcomes_tail=np.zeros(len(experiments))\n",
    "\n",
    "rnd.seed(10)\n",
    "i=0\n",
    "for n in experiments:\n",
    "    flip = rnd.randint(0, 2, n)\n",
    "    outcomes_head[i] = np.count_nonzero(flip == 0)/n\n",
    "    outcomes_tail[i] = np.count_nonzero(flip == 1)/n\n",
    "    i=i+1\n",
    "\n",
    "\n",
    "plt.plot(experiments, outcomes_head,label='Simulation (Head)')\n",
    "plt.plot(experiments, outcomes_tail,label='Simulation (Tail)')\n",
    "plt.hlines(y = 0.5, xmin = experiments[0], xmax = experiments[-1],colors=\"black\",label='Theoritical')\n",
    "plt.xlabel('Itteration $n$')\n",
    "plt.ylabel('Probability');\n",
    "plt.legend()"
   ]
  },
  {
   "cell_type": "markdown",
   "metadata": {
    "id": "3cjOrrtKEkJn"
   },
   "source": [
    "We can see that the probability computed by simulation eventually converges to the true value as more experiments are conducted."
   ]
  },
  {
   "cell_type": "markdown",
   "metadata": {
    "id": "WJK2vdFYEkJn"
   },
   "source": [
    "## Challenges\n",
    "### Challenge 5: Birth Weight of New Born Babies\n",
    "The birth weight (in kilograms) of the $3.226$ new born babies is normally distributed with a mean of $3.39$ klg and a standard deviation of $0.55$ klg.\n",
    "Define your problem parameters.\n",
    "Generate the normal distribution and evaluate the probability density function."
   ]
  },
  {
   "cell_type": "code",
   "execution_count": 27,
   "metadata": {
    "id": "NC8mg3OUEkJn"
   },
   "outputs": [
    {
     "name": "stderr",
     "output_type": "stream",
     "text": [
      "C:\\Users\\hafsa\\AppData\\Local\\Temp\\ipykernel_12152\\3919917610.py:9: UserWarning: \n",
      "\n",
      "`distplot` is a deprecated function and will be removed in seaborn v0.14.0.\n",
      "\n",
      "Please adapt your code to use either `displot` (a figure-level function with\n",
      "similar flexibility) or `histplot` (an axes-level function for histograms).\n",
      "\n",
      "For a guide to updating your code to use the new functions, please see\n",
      "https://gist.github.com/mwaskom/de44147ed2974457ad6372750bbe5751\n",
      "\n",
      "  Plot = sns.distplot(P1)\n"
     ]
    },
    {
     "data": {
      "text/plain": [
       "<Figure size 640x480 with 0 Axes>"
      ]
     },
     "execution_count": 27,
     "metadata": {},
     "output_type": "execute_result"
    },
    {
     "data": {
      "image/png": "[encoded data removed]",
      "text/plain": [
       "<Figure size 640x480 with 1 Axes>"
      ]
     },
     "metadata": {},
     "output_type": "display_data"
    },
    {
     "data": {
      "text/plain": [
       "<Figure size 640x480 with 0 Axes>"
      ]
     },
     "metadata": {},
     "output_type": "display_data"
    }
   ],
   "source": [
    "#Your code here\n",
    "#Initializing Normal distribution parameters\n",
    "mu = 3.39\n",
    "sigma = 0.55\n",
    "N = 3226\n",
    "#Generate the Normal probability distribution\n",
    "P1 = rnd.normal(mu, sigma, N)\n",
    "#Then Plot\n",
    "Plot = sns.distplot(P1)\n",
    "plt.figure()"
   ]
  },
  {
   "cell_type": "markdown",
   "metadata": {
    "id": "xyc_1HV0EkJn"
   },
   "source": [
    "### Challenge 6: Crime Survey\n",
    "An FBI survey of 1000 reports shows that about 80% of all property crimes go unsolved. Suppose that in your town 3 such crimes are committed and they are each deemed independent of each other.\n",
    "<ol>\n",
    "  <li>Simulate this experiement and evaluate the probability density function</li>\n",
    "  <li>Compute the probability that 1 of 3 of these crimes will be solved?</li>\n",
    "</ol>\n",
    "\n",
    "#### Hint\n",
    "The problem above follows a binomial distribution since the following conditions are satisfied:\n",
    "<ul>\n",
    "  <li>Does it satisfy a fixed number of trials? YES the number of trials is fixed at 3 </li>\n",
    "  <li>Does it have only 2 outcomes? YES (Solved and unsolved)</li>\n",
    "  <li>Do all the trials have the same probability of success? YES (p = (100%-80%)=0.2)</li>\n",
    "</ul>\n"
   ]
  },
  {
   "cell_type": "code",
   "execution_count": 28,
   "metadata": {
    "id": "xgaFrga0EkJn"
   },
   "outputs": [
    {
     "name": "stdout",
     "output_type": "stream",
     "text": [
      "Probability Density Function:\n",
      "P(X=0) = 0.5120\n",
      "P(X=1) = 0.3840\n",
      "P(X=2) = 0.0960\n",
      "P(X=3) = 0.0080\n",
      "\n",
      "Probability of solving exactly 1 crime: 0.3840\n"
     ]
    }
   ],
   "source": [
    "#Your code here\n",
    "import scipy.stats as stats\n",
    "\n",
    "# Parameters\n",
    "n = 3  # Number of trials (crimes committed)\n",
    "p = 0.2  # Probability of success (solving a crime)\n",
    "\n",
    "# Probability Mass Function (PMF) for all possible outcomes (0, 1, 2, or 3 solved crimes)\n",
    "x_values = [0, 1, 2, 3]\n",
    "pdf_values = [stats.binom.pmf(x, n, p) for x in x_values]\n",
    "\n",
    "# Compute the probability of exactly 1 crime being solved\n",
    "prob_1_solved = stats.binom.pmf(1, n, p)\n",
    "\n",
    "# Display results\n",
    "print(\"Probability Density Function:\")\n",
    "for x, prob in zip(x_values, pdf_values):\n",
    "    print(f\"P(X={x}) = {prob:.4f}\")\n",
    "\n",
    "print(f\"\\nProbability of solving exactly 1 crime: {prob_1_solved:.4f}\")\n"
   ]
  },
  {
   "cell_type": "markdown",
   "metadata": {
    "id": "p-LOxNmgEkJn"
   },
   "source": [
    " ### Challenge 7: Throwing a dice\n",
    "Using the 1st code in the above experiment (Flipping a coin),  throw a dice with $n=100$ times and report how many times you throw $1, 2, 3, 4, 5,$ and $6$. Use a seed of $33$. Make sure that the reported values add up to $100$. What is the theoritical probability of each event."
   ]
  },
  {
   "cell_type": "code",
   "execution_count": 29,
   "metadata": {
    "id": "UEzBUmM9EkJn"
   },
   "outputs": [
    {
     "name": "stdout",
     "output_type": "stream",
     "text": [
      "outcome 1 is 17 with probability=0.17\n",
      "outcome 2 is 17 with probability=0.17\n",
      "outcome 3 is 15 with probability=0.15\n",
      "outcome 4 is 24 with probability=0.24\n",
      "outcome 5 is 19 with probability=0.19\n",
      "outcome 6 is 8 with probability=0.08\n"
     ]
    }
   ],
   "source": [
    "#Your code here\n",
    "rnd.seed(33)\n",
    "n=100\n",
    "flip = rnd.randint(1, 7, n)\n",
    "\n",
    "outcomes = np.zeros(6, dtype='int') \n",
    "for i in range (1,7):\n",
    "    outcomes[i-1] = np.count_nonzero(flip == i)\n",
    "    print(f'outcome {i} is {outcomes[i-1]} with probability={outcomes[i-1]/n}')\n"
   ]
  },
  {
   "cell_type": "markdown",
   "metadata": {
    "id": "KInH4IfVEkJn"
   },
   "source": [
    "Now Using the 2nd code in the Flipping a coin experiment, plot the probability simulation results and compare it with the theoritical probability."
   ]
  },
  {
   "cell_type": "code",
   "execution_count": 38,
   "metadata": {
    "id": "L4gD81IYEkJn"
   },
   "outputs": [
    {
     "data": {
      "text/plain": [
       "<matplotlib.legend.Legend at 0x1c17e15fc20>"
      ]
     },
     "execution_count": 38,
     "metadata": {},
     "output_type": "execute_result"
    },
    {
     "data": {
      "image/png": "[encoded data removed]",
      "text/plain": [
       "<Figure size 640x480 with 1 Axes>"
      ]
     },
     "metadata": {},
     "output_type": "display_data"
    }
   ],
   "source": [
    "#Your code here\n",
    "experiments=np.arange(1, 101, 10)\n",
    "\n",
    "outcomes_1=np.zeros(len(experiments))\n",
    "outcomes_2=np.zeros(len(experiments))\n",
    "outcomes_3=np.zeros(len(experiments))\n",
    "outcomes_4=np.zeros(len(experiments))\n",
    "outcomes_5=np.zeros(len(experiments))\n",
    "outcomes_6=np.zeros(len(experiments))\n",
    "\n",
    "\n",
    "rnd.seed(33)\n",
    "i=0\n",
    "for n in experiments:\n",
    "    flip = rnd.randint(1, 7, n)\n",
    "    outcomes_1[i] = np.count_nonzero(flip == 1)/n\n",
    "    outcomes_2[i] = np.count_nonzero(flip == 2)/n\n",
    "    outcomes_3[i] = np.count_nonzero(flip == 3)/n\n",
    "    outcomes_4[i] = np.count_nonzero(flip == 4)/n\n",
    "    outcomes_5[i] = np.count_nonzero(flip == 5)/n\n",
    "    outcomes_6[i] = np.count_nonzero(flip == 6)/n\n",
    "    i=i+1\n",
    "\n",
    "\n",
    "plt.plot(experiments, outcomes_1,label='Simulation (1)')\n",
    "plt.plot(experiments, outcomes_2,label='Simulation (2)')\n",
    "plt.plot(experiments, outcomes_3,label='Simulation (3)')\n",
    "plt.plot(experiments, outcomes_4,label='Simulation (4)')\n",
    "plt.plot(experiments, outcomes_5,label='Simulation (5)')\n",
    "plt.plot(experiments, outcomes_6,label='Simulation (6)')\n",
    "plt.hlines(y = 1/6, xmin = experiments[0], xmax = experiments[-1],colors=\"black\",label='Theoritical')\n",
    "plt.xlabel('Itteration $n$')\n",
    "plt.ylabel('Probability');\n",
    "plt.legend()"
   ]
  },
  {
   "cell_type": "markdown",
   "metadata": {
    "id": "rbN-Gb8bEkJn"
   },
   "source": [
    "### Challenge 8: Drawing balls from a box\n",
    "Suppose there are 12 balls in a box: 4 black, 4 red, and 4 blue. We want to make a program that draws n balls at random from the box. It is natural to represent the collection of balls as a list. Each list element can be an integer 1, 2, or 3, since we have 3 different types of balls, but it would be easier to work with the program if the balls could have a color instead of an integer number. This is easily accomplished by defining color names (See `new_box()` function below). Drawing a ball at random is performed by the `draw_ball()` function. Similarly, drawing n balls can be performed using the `draw_n_balls()` function."
   ]
  },
  {
   "cell_type": "code",
   "execution_count": 31,
   "metadata": {
    "id": "5oktHSVEEkJn"
   },
   "outputs": [],
   "source": [
    "import numpy.random as rnd\n",
    "\n",
    "def new_box():\n",
    "    colors = 'black', 'red', 'blue'   # (tuple of strings)\n",
    "    box = []\n",
    "    for color in colors:\n",
    "        for i in range(4):\n",
    "            box.append(color)\n",
    "    return box\n",
    "\n",
    "def draw_ball(box):\n",
    "    color = rnd.choice(box)\n",
    "    box.remove(color)\n",
    "    return color, box\n",
    "\n",
    "def draw_n_balls(box,n):\n",
    "# Draw n balls from the box\n",
    "    balls = []\n",
    "    for i in range(n):\n",
    "        color, box = draw_ball(box)\n",
    "        balls.append(color)\n",
    "    return balls\n"
   ]
  },
  {
   "cell_type": "markdown",
   "metadata": {
    "id": "V1fvSxEbEkJn"
   },
   "source": [
    "#### Question\n",
    "Now, we ask you to compute the probability of drawing 2 or more black balls from that box via experiemntal simulation. To do so, perform `N` experiments, count how many times `M` you get 2 or more black balls, and estimate the probability as `M/N`. Each experiment consists of making the box list, drawing a number of balls, and counting how many black balls we got. The latter task is easy with the count method in list objects: `box.count('black')` counts how many elements with value 'black' we have in the list box.\n",
    "Given:\n",
    "<ul>\n",
    "  <li>n as how  many balls are to be drawn? </li>\n",
    "  <li>N as how many experiments?</li>\n",
    "</ul>\n",
    " Write a python program using the functions defined just above to compute the required probability.\n",
    " Run your program with n=5 (drawing 5 balls each time) and N=4000 and reports the probability result.\n",
    " Try with other n values and report what differs from the obtained results."
   ]
  },
  {
   "cell_type": "code",
   "execution_count": 32,
   "metadata": {
    "colab": {
     "base_uri": "https://localhost:8080/"
    },
    "id": "RwNf4RAcEkJn",
    "outputId": "951602b3-bf28-497a-bd5f-23ae932aaa0e"
   },
   "outputs": [
    {
     "name": "stdout",
     "output_type": "stream",
     "text": [
      "Probability:0.57\n"
     ]
    }
   ],
   "source": [
    "n = 5\n",
    "N = 4000\n",
    "prob=0\n",
    "M = 0\n",
    "#complete your code here to compute and print the prob\n",
    "for exp in range(N) :\n",
    "   box = new_box()\n",
    "   balls = draw_n_balls(box,n)\n",
    "   nb_black_balls = balls.count('black')\n",
    "   if nb_black_balls >= 2 :\n",
    "       M += 1\n",
    "prob = M/N\n",
    "#.......\n",
    "print ('Probability:' \"{:.2f}\".format(prob))"
   ]
  },
  {
   "cell_type": "markdown",
   "metadata": {
    "id": "9Ha-yzrzEkJn"
   },
   "source": [
    "## Simulating Synthetic Data using Probability Distributions\n",
    "Synthetic data is computer-generated data that is similar to real-world data. The primary purpose of synthetics data is to increase the privacy and integrity of systems. For example, to protect the Personally Identifiable Information (PII) or Personal Health Information (PHI) of the users, companies have to implement data protection strategies. Using synthetic data can help companies test new applications and protect user privacy.\n",
    "\n",
    "For this purpose, We will use the Python Faker library. Faker is an open-source Python package used to simulate a fake dataset for application testing, bootstrapping the database, and maintaining user anonymity.\n",
    "To learn about more advanced functions, check out the Faker documentation (https://faker.readthedocs.io/en/master/fakerclass.html)."
   ]
  },
  {
   "cell_type": "code",
   "execution_count": 33,
   "metadata": {
    "colab": {
     "base_uri": "https://localhost:8080/"
    },
    "id": "MBkAI_ZVEkJn",
    "outputId": "c98723f9-77a8-4cfc-fc30-2f93e478f2af"
   },
   "outputs": [
    {
     "name": "stdout",
     "output_type": "stream",
     "text": [
      "Collecting Faker\n",
      "  Downloading Faker-36.1.1-py3-none-any.whl.metadata (15 kB)\n",
      "Requirement already satisfied: tzdata in c:\\users\\hafsa\\appdata\\local\\programs\\python\\python312\\lib\\site-packages (from Faker) (2024.2)\n",
      "Downloading Faker-36.1.1-py3-none-any.whl (1.9 MB)\n",
      "   ---------------------------------------- 0.0/1.9 MB ? eta -:--:--\n",
      "   ---------------------------------------- 0.0/1.9 MB ? eta -:--:--\n",
      "   ---------------- ----------------------- 0.8/1.9 MB 2.8 MB/s eta 0:00:01\n",
      "   --------------------- ------------------ 1.0/1.9 MB 2.1 MB/s eta 0:00:01\n",
      "   -------------------------------- ------- 1.6/1.9 MB 2.3 MB/s eta 0:00:01\n",
      "   ---------------------------------------- 1.9/1.9 MB 2.4 MB/s eta 0:00:00\n",
      "Installing collected packages: Faker\n",
      "Successfully installed Faker-36.1.1\n",
      "Note: you may need to restart the kernel to use updated packages.\n"
     ]
    },
    {
     "name": "stderr",
     "output_type": "stream",
     "text": [
      "\n",
      "[notice] A new release of pip is available: 24.3.1 -> 25.0.1\n",
      "[notice] To update, run: python.exe -m pip install --upgrade pip\n"
     ]
    }
   ],
   "source": [
    "%pip install Faker"
   ]
  },
  {
   "cell_type": "code",
   "execution_count": 34,
   "metadata": {
    "colab": {
     "base_uri": "https://localhost:8080/"
    },
    "id": "mbvnT51HEkJn",
    "outputId": "cacfb176-e37e-4ed4-d73a-2547da360dc8"
   },
   "outputs": [
    {
     "name": "stdout",
     "output_type": "stream",
     "text": [
      "Requirement already satisfied: pandas in c:\\users\\hafsa\\appdata\\local\\programs\\python\\python312\\lib\\site-packages (2.2.3)\n",
      "Requirement already satisfied: numpy>=1.26.0 in c:\\users\\hafsa\\appdata\\local\\programs\\python\\python312\\lib\\site-packages (from pandas) (2.0.2)\n",
      "Requirement already satisfied: python-dateutil>=2.8.2 in c:\\users\\hafsa\\appdata\\local\\programs\\python\\python312\\lib\\site-packages (from pandas) (2.9.0.post0)\n",
      "Requirement already satisfied: pytz>=2020.1 in c:\\users\\hafsa\\appdata\\local\\programs\\python\\python312\\lib\\site-packages (from pandas) (2024.2)\n",
      "Requirement already satisfied: tzdata>=2022.7 in c:\\users\\hafsa\\appdata\\local\\programs\\python\\python312\\lib\\site-packages (from pandas) (2024.2)\n",
      "Requirement already satisfied: six>=1.5 in c:\\users\\hafsa\\appdata\\local\\programs\\python\\python312\\lib\\site-packages (from python-dateutil>=2.8.2->pandas) (1.16.0)\n",
      "Note: you may need to restart the kernel to use updated packages.\n"
     ]
    },
    {
     "name": "stderr",
     "output_type": "stream",
     "text": [
      "\n",
      "[notice] A new release of pip is available: 24.3.1 -> 25.0.1\n",
      "[notice] To update, run: python.exe -m pip install --upgrade pip\n"
     ]
    }
   ],
   "source": [
    "%pip install pandas"
   ]
  },
  {
   "cell_type": "markdown",
   "metadata": {
    "id": "3h-ZSOYEEkJn"
   },
   "source": [
    "Faker comes with command line support, Pytest fixtures, Localization (support different regions), reproducibility, and dynamic provider (customizing it to your needs).\n",
    "You can also use Faker's basic functionalities to create a quick dataset and customize it to your needs. In the table below, you can check various Faker functions and the purpose.\n",
    "\n",
    "| Faker Function  | Purpose                                       |\n",
    "|-----------------|-----------------------------------------------|\n",
    "| name()          | Generates fake full name                      |\n",
    "| credit_card_full() | Generates credit card number with expiry and CVV |\n",
    "| email()         | Generates fake email address                   |\n",
    "| url()           | Generate fake URL                              |\n",
    "| phone_number()  | Generates fake phone number with country code  |\n",
    "| address()       | Generates fake full address                    |\n",
    "| license_plate() | Generates fake license plate                   |\n",
    "| currency()      | Generate tuple of currency code and full form  |\n",
    "| color_name()    | Generate random color name                     |\n",
    "| local_latlng()  | Generate latitude, longitude, area, country, and states |\n",
    "| domain_name()   | Generate the fake website based on fake person name |\n",
    "| text()          | Generate the fake small text                   |\n",
    "| company()       | Generate fake company name                     |\n",
    "\n",
    "\n",
    "\n",
    "\n"
   ]
  },
  {
   "cell_type": "markdown",
   "metadata": {
    "id": "YNE5BR4XEkJn"
   },
   "source": [
    "### Synthetic Data Simulation Examples\n",
    "In this section, we will use Python Faker to simulate synthetics data. It consists of an example of how you can use `Faker` for various tasks. The main goal is to develop a privacy-centric approach for testing systems.\n",
    "\n",
    "First, we will initiate a fake generator using `Faker()`. By default, it is using the `en_US` locale."
   ]
  },
  {
   "cell_type": "code",
   "execution_count": 35,
   "metadata": {
    "id": "2JuwNuY_EkJn"
   },
   "outputs": [],
   "source": [
    "from faker import Faker\n",
    "fake = Faker()"
   ]
  },
  {
   "cell_type": "markdown",
   "metadata": {
    "id": "ecgZbVOWEkJn"
   },
   "source": [
    "#### Example:\n",
    "In this example, we will create a pandas dataframe that contains fake data.\n",
    "\n",
    "- Create empty pandas dataframe (data)\n",
    "- Pass it through x number of loops to create multiple rows\n",
    "- Use  prebuilt  functions such as `random_int()`, `name()`, `address()`, `latitude()`, and `longitude()`  to generate the columns accordingley.\n",
    "- Use `uniform()` prebult random function to generate the `Weight` feature.\n",
    "- Run the `input_data()` function with n_rows=50"
   ]
  },
  {
   "cell_type": "code",
   "execution_count": 36,
   "metadata": {
    "colab": {
     "base_uri": "https://localhost:8080/",
     "height": 1000
    },
    "id": "nVYrwm2SEkJn",
    "outputId": "7909945f-69cb-4daf-88c0-8610564a50f3"
   },
   "outputs": [
    {
     "data": {
      "text/html": [
       "<div>\n",
       "<style scoped>\n",
       "    .dataframe tbody tr th:only-of-type {\n",
       "        vertical-align: middle;\n",
       "    }\n",
       "\n",
       "    .dataframe tbody tr th {\n",
       "        vertical-align: top;\n",
       "    }\n",
       "\n",
       "    .dataframe thead th {\n",
       "        text-align: right;\n",
       "    }\n",
       "</style>\n",
       "<table border=\"1\" class=\"dataframe\">\n",
       "  <thead>\n",
       "    <tr style=\"text-align: right;\">\n",
       "      <th></th>\n",
       "      <th>name</th>\n",
       "      <th>age</th>\n",
       "      <th>Weight</th>\n",
       "      <th>address</th>\n",
       "      <th>latitude</th>\n",
       "      <th>longitude</th>\n",
       "    </tr>\n",
       "  </thead>\n",
       "  <tbody>\n",
       "    <tr>\n",
       "      <th>0</th>\n",
       "      <td>Kevin Carroll</td>\n",
       "      <td>61.0</td>\n",
       "      <td>70.945816</td>\n",
       "      <td>66826 Gabrielle Club\\nEast Robertland, NV 65494</td>\n",
       "      <td>-67.045010</td>\n",
       "      <td>42.775094</td>\n",
       "    </tr>\n",
       "    <tr>\n",
       "      <th>1</th>\n",
       "      <td>Christine Mclaughlin</td>\n",
       "      <td>33.0</td>\n",
       "      <td>98.186370</td>\n",
       "      <td>292 Kelli Underpass\\nEast Laurenhaven, UT 20740</td>\n",
       "      <td>17.6176495</td>\n",
       "      <td>-12.907967</td>\n",
       "    </tr>\n",
       "    <tr>\n",
       "      <th>2</th>\n",
       "      <td>Robin Wilkins</td>\n",
       "      <td>66.0</td>\n",
       "      <td>62.822106</td>\n",
       "      <td>66472 Nicholas Terrace\\nDanielland, CT 51536</td>\n",
       "      <td>63.667310</td>\n",
       "      <td>120.352948</td>\n",
       "    </tr>\n",
       "    <tr>\n",
       "      <th>3</th>\n",
       "      <td>Shawn Wang</td>\n",
       "      <td>64.0</td>\n",
       "      <td>74.290377</td>\n",
       "      <td>USCGC Brewer\\nFPO AE 33500</td>\n",
       "      <td>64.7891945</td>\n",
       "      <td>154.673358</td>\n",
       "    </tr>\n",
       "    <tr>\n",
       "      <th>4</th>\n",
       "      <td>Mark Hunt</td>\n",
       "      <td>64.0</td>\n",
       "      <td>79.464320</td>\n",
       "      <td>600 Williams Heights\\nKennedyshire, WA 35147</td>\n",
       "      <td>-58.4686155</td>\n",
       "      <td>-165.994524</td>\n",
       "    </tr>\n",
       "    <tr>\n",
       "      <th>5</th>\n",
       "      <td>Richard Long</td>\n",
       "      <td>22.0</td>\n",
       "      <td>99.611258</td>\n",
       "      <td>9783 Patrick Turnpike\\nColemanland, LA 98118</td>\n",
       "      <td>5.085232</td>\n",
       "      <td>-64.037046</td>\n",
       "    </tr>\n",
       "    <tr>\n",
       "      <th>6</th>\n",
       "      <td>Mr. Chad Foster</td>\n",
       "      <td>61.0</td>\n",
       "      <td>98.179797</td>\n",
       "      <td>0809 Dixon Trail\\nSouth Susan, AK 70529</td>\n",
       "      <td>-33.143177</td>\n",
       "      <td>110.820108</td>\n",
       "    </tr>\n",
       "    <tr>\n",
       "      <th>7</th>\n",
       "      <td>Philip Leach</td>\n",
       "      <td>88.0</td>\n",
       "      <td>95.457870</td>\n",
       "      <td>9484 Knight Junction\\nPort Carrie, DE 26551</td>\n",
       "      <td>28.254157</td>\n",
       "      <td>144.289047</td>\n",
       "    </tr>\n",
       "    <tr>\n",
       "      <th>8</th>\n",
       "      <td>Annette Hall</td>\n",
       "      <td>27.0</td>\n",
       "      <td>64.576979</td>\n",
       "      <td>6107 Angela Passage Apt. 322\\nNorth Stephanie,...</td>\n",
       "      <td>-5.7191895</td>\n",
       "      <td>49.273929</td>\n",
       "    </tr>\n",
       "    <tr>\n",
       "      <th>9</th>\n",
       "      <td>Ronald Brown</td>\n",
       "      <td>28.0</td>\n",
       "      <td>94.041377</td>\n",
       "      <td>0743 Brian Burgs\\nSouth Jonathon, KS 94302</td>\n",
       "      <td>13.8261295</td>\n",
       "      <td>-79.090438</td>\n",
       "    </tr>\n",
       "    <tr>\n",
       "      <th>10</th>\n",
       "      <td>Casey Robinson</td>\n",
       "      <td>20.0</td>\n",
       "      <td>64.620176</td>\n",
       "      <td>6175 Nicholson Stream\\nClarkbury, PR 45800</td>\n",
       "      <td>-71.492267</td>\n",
       "      <td>53.167402</td>\n",
       "    </tr>\n",
       "    <tr>\n",
       "      <th>11</th>\n",
       "      <td>Joseph Jackson</td>\n",
       "      <td>78.0</td>\n",
       "      <td>98.998980</td>\n",
       "      <td>732 Rebecca Estates\\nMolinafurt, MI 66708</td>\n",
       "      <td>81.9560775</td>\n",
       "      <td>64.684150</td>\n",
       "    </tr>\n",
       "    <tr>\n",
       "      <th>12</th>\n",
       "      <td>Cameron Taylor</td>\n",
       "      <td>67.0</td>\n",
       "      <td>81.353642</td>\n",
       "      <td>Unit 0241 Box 8921\\nDPO AE 07361</td>\n",
       "      <td>10.748062</td>\n",
       "      <td>48.843014</td>\n",
       "    </tr>\n",
       "    <tr>\n",
       "      <th>13</th>\n",
       "      <td>Mary Williams</td>\n",
       "      <td>33.0</td>\n",
       "      <td>79.852360</td>\n",
       "      <td>25220 Bryan Parkway Apt. 227\\nSouth David, IN ...</td>\n",
       "      <td>59.5384245</td>\n",
       "      <td>-50.045332</td>\n",
       "    </tr>\n",
       "    <tr>\n",
       "      <th>14</th>\n",
       "      <td>Laura Bowen</td>\n",
       "      <td>40.0</td>\n",
       "      <td>84.382553</td>\n",
       "      <td>4987 Ray Freeway Suite 909\\nBrendamouth, WI 52863</td>\n",
       "      <td>11.154831</td>\n",
       "      <td>-174.844679</td>\n",
       "    </tr>\n",
       "    <tr>\n",
       "      <th>15</th>\n",
       "      <td>Mr. Brandon Smith</td>\n",
       "      <td>100.0</td>\n",
       "      <td>80.945499</td>\n",
       "      <td>0380 Albert Extension\\nKimberlyhaven, FM 86481</td>\n",
       "      <td>-42.3831065</td>\n",
       "      <td>-154.234840</td>\n",
       "    </tr>\n",
       "    <tr>\n",
       "      <th>16</th>\n",
       "      <td>Brian Knapp</td>\n",
       "      <td>66.0</td>\n",
       "      <td>90.589903</td>\n",
       "      <td>1045 Christopher Squares\\nWest Manuel, PR 90414</td>\n",
       "      <td>67.8169555</td>\n",
       "      <td>144.336455</td>\n",
       "    </tr>\n",
       "    <tr>\n",
       "      <th>17</th>\n",
       "      <td>Martin Trujillo</td>\n",
       "      <td>44.0</td>\n",
       "      <td>96.261253</td>\n",
       "      <td>5666 Diamond Shoals Apt. 019\\nPaulville, WA 11023</td>\n",
       "      <td>-88.808504</td>\n",
       "      <td>-41.234248</td>\n",
       "    </tr>\n",
       "    <tr>\n",
       "      <th>18</th>\n",
       "      <td>Kent Lee</td>\n",
       "      <td>28.0</td>\n",
       "      <td>72.634798</td>\n",
       "      <td>USNS Graham\\nFPO AP 86876</td>\n",
       "      <td>-23.513466</td>\n",
       "      <td>-29.925002</td>\n",
       "    </tr>\n",
       "    <tr>\n",
       "      <th>19</th>\n",
       "      <td>Kent Mason</td>\n",
       "      <td>34.0</td>\n",
       "      <td>66.770396</td>\n",
       "      <td>74095 Thomas Land\\nLake Jamesberg, MI 91715</td>\n",
       "      <td>-65.6265735</td>\n",
       "      <td>64.858742</td>\n",
       "    </tr>\n",
       "    <tr>\n",
       "      <th>20</th>\n",
       "      <td>Ruth Mccullough</td>\n",
       "      <td>63.0</td>\n",
       "      <td>79.979264</td>\n",
       "      <td>56236 Hall Common Apt. 881\\nNew Michelleshire,...</td>\n",
       "      <td>75.5739765</td>\n",
       "      <td>-69.954001</td>\n",
       "    </tr>\n",
       "    <tr>\n",
       "      <th>21</th>\n",
       "      <td>Kaitlin Owens</td>\n",
       "      <td>18.0</td>\n",
       "      <td>79.489475</td>\n",
       "      <td>5924 Rojas Plains\\nHallburgh, MP 85437</td>\n",
       "      <td>20.019965</td>\n",
       "      <td>-6.743501</td>\n",
       "    </tr>\n",
       "    <tr>\n",
       "      <th>22</th>\n",
       "      <td>Debra Martinez</td>\n",
       "      <td>69.0</td>\n",
       "      <td>90.393108</td>\n",
       "      <td>5420 Dennis Fork Suite 622\\nBrendafurt, MA 84183</td>\n",
       "      <td>-37.006098</td>\n",
       "      <td>-128.069711</td>\n",
       "    </tr>\n",
       "    <tr>\n",
       "      <th>23</th>\n",
       "      <td>Teresa Austin</td>\n",
       "      <td>60.0</td>\n",
       "      <td>99.576608</td>\n",
       "      <td>892 Herrera Rapids\\nVanceville, SD 29413</td>\n",
       "      <td>39.8460495</td>\n",
       "      <td>-80.109473</td>\n",
       "    </tr>\n",
       "    <tr>\n",
       "      <th>24</th>\n",
       "      <td>Todd Powers</td>\n",
       "      <td>91.0</td>\n",
       "      <td>71.157005</td>\n",
       "      <td>6951 Mack Avenue\\nLake Stephanie, AZ 82045</td>\n",
       "      <td>13.5607145</td>\n",
       "      <td>-19.071143</td>\n",
       "    </tr>\n",
       "    <tr>\n",
       "      <th>25</th>\n",
       "      <td>Paula Jimenez</td>\n",
       "      <td>19.0</td>\n",
       "      <td>79.663655</td>\n",
       "      <td>877 Stephanie Burg Suite 525\\nKristenville, NH...</td>\n",
       "      <td>23.0469125</td>\n",
       "      <td>147.486971</td>\n",
       "    </tr>\n",
       "    <tr>\n",
       "      <th>26</th>\n",
       "      <td>Erin Mcclain</td>\n",
       "      <td>29.0</td>\n",
       "      <td>90.723627</td>\n",
       "      <td>PSC 6455, Box 4546\\nAPO AP 46117</td>\n",
       "      <td>-2.008871</td>\n",
       "      <td>18.973264</td>\n",
       "    </tr>\n",
       "    <tr>\n",
       "      <th>27</th>\n",
       "      <td>Stephanie Horton</td>\n",
       "      <td>91.0</td>\n",
       "      <td>89.888397</td>\n",
       "      <td>240 Jim Garden\\nNew Matthewbury, WI 32986</td>\n",
       "      <td>-64.2995595</td>\n",
       "      <td>-46.871568</td>\n",
       "    </tr>\n",
       "    <tr>\n",
       "      <th>28</th>\n",
       "      <td>Jamie Hernandez</td>\n",
       "      <td>20.0</td>\n",
       "      <td>75.522912</td>\n",
       "      <td>967 Shawn Locks\\nMargaretfort, FL 89102</td>\n",
       "      <td>35.532059</td>\n",
       "      <td>67.580669</td>\n",
       "    </tr>\n",
       "    <tr>\n",
       "      <th>29</th>\n",
       "      <td>Michelle Cook</td>\n",
       "      <td>21.0</td>\n",
       "      <td>98.525200</td>\n",
       "      <td>169 Marie Tunnel Apt. 983\\nLake Austinton, NC ...</td>\n",
       "      <td>-33.6150655</td>\n",
       "      <td>136.344983</td>\n",
       "    </tr>\n",
       "    <tr>\n",
       "      <th>30</th>\n",
       "      <td>Julian Lowery</td>\n",
       "      <td>94.0</td>\n",
       "      <td>77.939154</td>\n",
       "      <td>1626 Jimenez Neck\\nKirstenburgh, NC 34761</td>\n",
       "      <td>0.5024405</td>\n",
       "      <td>108.079183</td>\n",
       "    </tr>\n",
       "    <tr>\n",
       "      <th>31</th>\n",
       "      <td>Lauren Coleman</td>\n",
       "      <td>36.0</td>\n",
       "      <td>63.076176</td>\n",
       "      <td>1896 Susan Divide Apt. 392\\nWest Thomas, NH 94559</td>\n",
       "      <td>-1.2517275</td>\n",
       "      <td>168.718719</td>\n",
       "    </tr>\n",
       "    <tr>\n",
       "      <th>32</th>\n",
       "      <td>Denise Johnson</td>\n",
       "      <td>60.0</td>\n",
       "      <td>97.832901</td>\n",
       "      <td>336 Julie Place Apt. 287\\nHuffmanport, AK 71889</td>\n",
       "      <td>-65.881422</td>\n",
       "      <td>145.055197</td>\n",
       "    </tr>\n",
       "    <tr>\n",
       "      <th>33</th>\n",
       "      <td>Christopher Johnson</td>\n",
       "      <td>86.0</td>\n",
       "      <td>92.719957</td>\n",
       "      <td>90472 Todd Crossroad\\nSouth Dana, MA 87233</td>\n",
       "      <td>-9.809629</td>\n",
       "      <td>-90.494263</td>\n",
       "    </tr>\n",
       "    <tr>\n",
       "      <th>34</th>\n",
       "      <td>Donald Wilcox</td>\n",
       "      <td>21.0</td>\n",
       "      <td>95.063909</td>\n",
       "      <td>1132 Kirk Wells\\nNew Kevin, DC 54580</td>\n",
       "      <td>16.154183</td>\n",
       "      <td>51.201525</td>\n",
       "    </tr>\n",
       "    <tr>\n",
       "      <th>35</th>\n",
       "      <td>Caitlin Williams</td>\n",
       "      <td>28.0</td>\n",
       "      <td>96.652387</td>\n",
       "      <td>8253 Toni Ford\\nGuerrerofort, OH 90769</td>\n",
       "      <td>-71.5958475</td>\n",
       "      <td>-111.551567</td>\n",
       "    </tr>\n",
       "    <tr>\n",
       "      <th>36</th>\n",
       "      <td>Ashley Fitzgerald</td>\n",
       "      <td>99.0</td>\n",
       "      <td>75.709955</td>\n",
       "      <td>58074 Wilkerson Forge\\nWest Robert, ID 66426</td>\n",
       "      <td>31.308927</td>\n",
       "      <td>138.984269</td>\n",
       "    </tr>\n",
       "    <tr>\n",
       "      <th>37</th>\n",
       "      <td>Ashley Hodges</td>\n",
       "      <td>46.0</td>\n",
       "      <td>89.382784</td>\n",
       "      <td>379 Becker Lock\\nRachelfurt, TN 21550</td>\n",
       "      <td>-12.1961345</td>\n",
       "      <td>171.116125</td>\n",
       "    </tr>\n",
       "    <tr>\n",
       "      <th>38</th>\n",
       "      <td>Kevin Braun</td>\n",
       "      <td>19.0</td>\n",
       "      <td>68.574893</td>\n",
       "      <td>0269 Erica Haven\\nSouth Haroldburgh, DE 32871</td>\n",
       "      <td>43.782570</td>\n",
       "      <td>80.131272</td>\n",
       "    </tr>\n",
       "    <tr>\n",
       "      <th>39</th>\n",
       "      <td>Ms. Shelby Lane MD</td>\n",
       "      <td>67.0</td>\n",
       "      <td>63.785909</td>\n",
       "      <td>44195 Sara Walks\\nWillieland, AS 03272</td>\n",
       "      <td>-53.854967</td>\n",
       "      <td>-178.844392</td>\n",
       "    </tr>\n",
       "    <tr>\n",
       "      <th>40</th>\n",
       "      <td>Danielle Chavez</td>\n",
       "      <td>69.0</td>\n",
       "      <td>86.625578</td>\n",
       "      <td>436 Alicia Center\\nMirandaburgh, KS 68774</td>\n",
       "      <td>-86.281778</td>\n",
       "      <td>-143.507097</td>\n",
       "    </tr>\n",
       "    <tr>\n",
       "      <th>41</th>\n",
       "      <td>Diana Torres</td>\n",
       "      <td>50.0</td>\n",
       "      <td>60.969426</td>\n",
       "      <td>23940 Timothy Flats Apt. 187\\nNew Kimberlyvill...</td>\n",
       "      <td>6.316053</td>\n",
       "      <td>-75.244670</td>\n",
       "    </tr>\n",
       "    <tr>\n",
       "      <th>42</th>\n",
       "      <td>Judy Khan</td>\n",
       "      <td>81.0</td>\n",
       "      <td>99.207978</td>\n",
       "      <td>01966 Alexander Ridge Suite 804\\nEast Lindseyf...</td>\n",
       "      <td>-11.199808</td>\n",
       "      <td>6.565518</td>\n",
       "    </tr>\n",
       "    <tr>\n",
       "      <th>43</th>\n",
       "      <td>Yolanda Parrish</td>\n",
       "      <td>33.0</td>\n",
       "      <td>73.248494</td>\n",
       "      <td>5143 David Green\\nScottfort, NJ 62469</td>\n",
       "      <td>65.933523</td>\n",
       "      <td>178.085887</td>\n",
       "    </tr>\n",
       "    <tr>\n",
       "      <th>44</th>\n",
       "      <td>Robert Hunt</td>\n",
       "      <td>94.0</td>\n",
       "      <td>63.783119</td>\n",
       "      <td>15897 Morgan Springs\\nDennisberg, WA 66060</td>\n",
       "      <td>-87.4087195</td>\n",
       "      <td>126.401727</td>\n",
       "    </tr>\n",
       "    <tr>\n",
       "      <th>45</th>\n",
       "      <td>Christina Lopez</td>\n",
       "      <td>49.0</td>\n",
       "      <td>81.254182</td>\n",
       "      <td>3922 Stephanie Road\\nEast Amandamouth, FL 83467</td>\n",
       "      <td>-62.6004575</td>\n",
       "      <td>53.081795</td>\n",
       "    </tr>\n",
       "    <tr>\n",
       "      <th>46</th>\n",
       "      <td>Grace Williams</td>\n",
       "      <td>23.0</td>\n",
       "      <td>60.944813</td>\n",
       "      <td>54563 Stephanie Stravenue\\nLake Catherinefurt,...</td>\n",
       "      <td>20.0648115</td>\n",
       "      <td>129.350637</td>\n",
       "    </tr>\n",
       "    <tr>\n",
       "      <th>47</th>\n",
       "      <td>Melissa Kim</td>\n",
       "      <td>92.0</td>\n",
       "      <td>98.736140</td>\n",
       "      <td>33471 Edwards Bypass\\nMathewsburgh, MD 97305</td>\n",
       "      <td>-58.922673</td>\n",
       "      <td>-172.529721</td>\n",
       "    </tr>\n",
       "    <tr>\n",
       "      <th>48</th>\n",
       "      <td>Amanda Williams</td>\n",
       "      <td>88.0</td>\n",
       "      <td>96.640727</td>\n",
       "      <td>Unit 2231 Box 1816\\nDPO AP 58408</td>\n",
       "      <td>42.2731365</td>\n",
       "      <td>-55.989049</td>\n",
       "    </tr>\n",
       "    <tr>\n",
       "      <th>49</th>\n",
       "      <td>Kenneth Henderson</td>\n",
       "      <td>74.0</td>\n",
       "      <td>62.476706</td>\n",
       "      <td>514 Lindsey Garden\\nWest Lisa, PA 93491</td>\n",
       "      <td>44.436794</td>\n",
       "      <td>118.749598</td>\n",
       "    </tr>\n",
       "  </tbody>\n",
       "</table>\n",
       "</div>"
      ],
      "text/plain": [
       "                    name    age     Weight  \\\n",
       "0          Kevin Carroll   61.0  70.945816   \n",
       "1   Christine Mclaughlin   33.0  98.186370   \n",
       "2          Robin Wilkins   66.0  62.822106   \n",
       "3             Shawn Wang   64.0  74.290377   \n",
       "4              Mark Hunt   64.0  79.464320   \n",
       "5           Richard Long   22.0  99.611258   \n",
       "6        Mr. Chad Foster   61.0  98.179797   \n",
       "7           Philip Leach   88.0  95.457870   \n",
       "8           Annette Hall   27.0  64.576979   \n",
       "9           Ronald Brown   28.0  94.041377   \n",
       "10        Casey Robinson   20.0  64.620176   \n",
       "11        Joseph Jackson   78.0  98.998980   \n",
       "12        Cameron Taylor   67.0  81.353642   \n",
       "13         Mary Williams   33.0  79.852360   \n",
       "14           Laura Bowen   40.0  84.382553   \n",
       "15     Mr. Brandon Smith  100.0  80.945499   \n",
       "16           Brian Knapp   66.0  90.589903   \n",
       "17       Martin Trujillo   44.0  96.261253   \n",
       "18              Kent Lee   28.0  72.634798   \n",
       "19            Kent Mason   34.0  66.770396   \n",
       "20       Ruth Mccullough   63.0  79.979264   \n",
       "21         Kaitlin Owens   18.0  79.489475   \n",
       "22        Debra Martinez   69.0  90.393108   \n",
       "23         Teresa Austin   60.0  99.576608   \n",
       "24           Todd Powers   91.0  71.157005   \n",
       "25         Paula Jimenez   19.0  79.663655   \n",
       "26          Erin Mcclain   29.0  90.723627   \n",
       "27      Stephanie Horton   91.0  89.888397   \n",
       "28       Jamie Hernandez   20.0  75.522912   \n",
       "29         Michelle Cook   21.0  98.525200   \n",
       "30         Julian Lowery   94.0  77.939154   \n",
       "31        Lauren Coleman   36.0  63.076176   \n",
       "32        Denise Johnson   60.0  97.832901   \n",
       "33   Christopher Johnson   86.0  92.719957   \n",
       "34         Donald Wilcox   21.0  95.063909   \n",
       "35      Caitlin Williams   28.0  96.652387   \n",
       "36     Ashley Fitzgerald   99.0  75.709955   \n",
       "37         Ashley Hodges   46.0  89.382784   \n",
       "38           Kevin Braun   19.0  68.574893   \n",
       "39    Ms. Shelby Lane MD   67.0  63.785909   \n",
       "40       Danielle Chavez   69.0  86.625578   \n",
       "41          Diana Torres   50.0  60.969426   \n",
       "42             Judy Khan   81.0  99.207978   \n",
       "43       Yolanda Parrish   33.0  73.248494   \n",
       "44           Robert Hunt   94.0  63.783119   \n",
       "45       Christina Lopez   49.0  81.254182   \n",
       "46        Grace Williams   23.0  60.944813   \n",
       "47           Melissa Kim   92.0  98.736140   \n",
       "48       Amanda Williams   88.0  96.640727   \n",
       "49     Kenneth Henderson   74.0  62.476706   \n",
       "\n",
       "                                              address     latitude  \\\n",
       "0     66826 Gabrielle Club\\nEast Robertland, NV 65494   -67.045010   \n",
       "1     292 Kelli Underpass\\nEast Laurenhaven, UT 20740   17.6176495   \n",
       "2        66472 Nicholas Terrace\\nDanielland, CT 51536    63.667310   \n",
       "3                          USCGC Brewer\\nFPO AE 33500   64.7891945   \n",
       "4        600 Williams Heights\\nKennedyshire, WA 35147  -58.4686155   \n",
       "5        9783 Patrick Turnpike\\nColemanland, LA 98118     5.085232   \n",
       "6             0809 Dixon Trail\\nSouth Susan, AK 70529   -33.143177   \n",
       "7         9484 Knight Junction\\nPort Carrie, DE 26551    28.254157   \n",
       "8   6107 Angela Passage Apt. 322\\nNorth Stephanie,...   -5.7191895   \n",
       "9          0743 Brian Burgs\\nSouth Jonathon, KS 94302   13.8261295   \n",
       "10         6175 Nicholson Stream\\nClarkbury, PR 45800   -71.492267   \n",
       "11          732 Rebecca Estates\\nMolinafurt, MI 66708   81.9560775   \n",
       "12                   Unit 0241 Box 8921\\nDPO AE 07361    10.748062   \n",
       "13  25220 Bryan Parkway Apt. 227\\nSouth David, IN ...   59.5384245   \n",
       "14  4987 Ray Freeway Suite 909\\nBrendamouth, WI 52863    11.154831   \n",
       "15     0380 Albert Extension\\nKimberlyhaven, FM 86481  -42.3831065   \n",
       "16    1045 Christopher Squares\\nWest Manuel, PR 90414   67.8169555   \n",
       "17  5666 Diamond Shoals Apt. 019\\nPaulville, WA 11023   -88.808504   \n",
       "18                          USNS Graham\\nFPO AP 86876   -23.513466   \n",
       "19        74095 Thomas Land\\nLake Jamesberg, MI 91715  -65.6265735   \n",
       "20  56236 Hall Common Apt. 881\\nNew Michelleshire,...   75.5739765   \n",
       "21             5924 Rojas Plains\\nHallburgh, MP 85437    20.019965   \n",
       "22   5420 Dennis Fork Suite 622\\nBrendafurt, MA 84183   -37.006098   \n",
       "23           892 Herrera Rapids\\nVanceville, SD 29413   39.8460495   \n",
       "24         6951 Mack Avenue\\nLake Stephanie, AZ 82045   13.5607145   \n",
       "25  877 Stephanie Burg Suite 525\\nKristenville, NH...   23.0469125   \n",
       "26                   PSC 6455, Box 4546\\nAPO AP 46117    -2.008871   \n",
       "27          240 Jim Garden\\nNew Matthewbury, WI 32986  -64.2995595   \n",
       "28            967 Shawn Locks\\nMargaretfort, FL 89102    35.532059   \n",
       "29  169 Marie Tunnel Apt. 983\\nLake Austinton, NC ...  -33.6150655   \n",
       "30          1626 Jimenez Neck\\nKirstenburgh, NC 34761    0.5024405   \n",
       "31  1896 Susan Divide Apt. 392\\nWest Thomas, NH 94559   -1.2517275   \n",
       "32    336 Julie Place Apt. 287\\nHuffmanport, AK 71889   -65.881422   \n",
       "33         90472 Todd Crossroad\\nSouth Dana, MA 87233    -9.809629   \n",
       "34               1132 Kirk Wells\\nNew Kevin, DC 54580    16.154183   \n",
       "35             8253 Toni Ford\\nGuerrerofort, OH 90769  -71.5958475   \n",
       "36       58074 Wilkerson Forge\\nWest Robert, ID 66426    31.308927   \n",
       "37              379 Becker Lock\\nRachelfurt, TN 21550  -12.1961345   \n",
       "38      0269 Erica Haven\\nSouth Haroldburgh, DE 32871    43.782570   \n",
       "39             44195 Sara Walks\\nWillieland, AS 03272   -53.854967   \n",
       "40          436 Alicia Center\\nMirandaburgh, KS 68774   -86.281778   \n",
       "41  23940 Timothy Flats Apt. 187\\nNew Kimberlyvill...     6.316053   \n",
       "42  01966 Alexander Ridge Suite 804\\nEast Lindseyf...   -11.199808   \n",
       "43              5143 David Green\\nScottfort, NJ 62469    65.933523   \n",
       "44         15897 Morgan Springs\\nDennisberg, WA 66060  -87.4087195   \n",
       "45    3922 Stephanie Road\\nEast Amandamouth, FL 83467  -62.6004575   \n",
       "46  54563 Stephanie Stravenue\\nLake Catherinefurt,...   20.0648115   \n",
       "47       33471 Edwards Bypass\\nMathewsburgh, MD 97305   -58.922673   \n",
       "48                   Unit 2231 Box 1816\\nDPO AP 58408   42.2731365   \n",
       "49            514 Lindsey Garden\\nWest Lisa, PA 93491    44.436794   \n",
       "\n",
       "      longitude  \n",
       "0     42.775094  \n",
       "1    -12.907967  \n",
       "2    120.352948  \n",
       "3    154.673358  \n",
       "4   -165.994524  \n",
       "5    -64.037046  \n",
       "6    110.820108  \n",
       "7    144.289047  \n",
       "8     49.273929  \n",
       "9    -79.090438  \n",
       "10    53.167402  \n",
       "11    64.684150  \n",
       "12    48.843014  \n",
       "13   -50.045332  \n",
       "14  -174.844679  \n",
       "15  -154.234840  \n",
       "16   144.336455  \n",
       "17   -41.234248  \n",
       "18   -29.925002  \n",
       "19    64.858742  \n",
       "20   -69.954001  \n",
       "21    -6.743501  \n",
       "22  -128.069711  \n",
       "23   -80.109473  \n",
       "24   -19.071143  \n",
       "25   147.486971  \n",
       "26    18.973264  \n",
       "27   -46.871568  \n",
       "28    67.580669  \n",
       "29   136.344983  \n",
       "30   108.079183  \n",
       "31   168.718719  \n",
       "32   145.055197  \n",
       "33   -90.494263  \n",
       "34    51.201525  \n",
       "35  -111.551567  \n",
       "36   138.984269  \n",
       "37   171.116125  \n",
       "38    80.131272  \n",
       "39  -178.844392  \n",
       "40  -143.507097  \n",
       "41   -75.244670  \n",
       "42     6.565518  \n",
       "43   178.085887  \n",
       "44   126.401727  \n",
       "45    53.081795  \n",
       "46   129.350637  \n",
       "47  -172.529721  \n",
       "48   -55.989049  \n",
       "49   118.749598  "
      ]
     },
     "execution_count": 36,
     "metadata": {},
     "output_type": "execute_result"
    }
   ],
   "source": [
    "from random import randint\n",
    "import pandas as pd\n",
    "import random\n",
    "\n",
    "fake = Faker()\n",
    "\n",
    "def input_data(n_rows):\n",
    "\n",
    "    # pandas dataframe\n",
    "    data = pd.DataFrame()\n",
    "    for i in range(0, n_rows):\n",
    "        data.loc[i,'name']= fake.name()\n",
    "        data.loc[i,'age']= fake.random_int(18, 100)\n",
    "        data.loc[i,'Weight']= random.uniform(60, 100)\n",
    "        data.loc[i,'address']= fake.address()\n",
    "        data.loc[i,'latitude']= str(fake.latitude())\n",
    "        data.loc[i,'longitude']= str(fake.longitude())\n",
    "    return data\n",
    "\n",
    "\n",
    "input_data(50)"
   ]
  },
  {
   "cell_type": "markdown",
   "metadata": {
    "id": "G8wFFbqDEkJn"
   },
   "source": [
    "### Challenge 9:\n",
    "Update the  example above so that you:\n",
    "- Generate a `height` feature following a gaussian distribution of with mu=180 cm and a std_deviation=15.5 cm.\n",
    "- Generate a `bmi` feature where bmi = Weight / (height (in meter) **2)."
   ]
  },
  {
   "cell_type": "code",
   "execution_count": 37,
   "metadata": {
    "id": "jWlh8FjvEkJn"
   },
   "outputs": [
    {
     "data": {
      "text/html": [
       "<div>\n",
       "<style scoped>\n",
       "    .dataframe tbody tr th:only-of-type {\n",
       "        vertical-align: middle;\n",
       "    }\n",
       "\n",
       "    .dataframe tbody tr th {\n",
       "        vertical-align: top;\n",
       "    }\n",
       "\n",
       "    .dataframe thead th {\n",
       "        text-align: right;\n",
       "    }\n",
       "</style>\n",
       "<table border=\"1\" class=\"dataframe\">\n",
       "  <thead>\n",
       "    <tr style=\"text-align: right;\">\n",
       "      <th></th>\n",
       "      <th>name</th>\n",
       "      <th>age</th>\n",
       "      <th>Weight</th>\n",
       "      <th>address</th>\n",
       "      <th>latitude</th>\n",
       "      <th>longitude</th>\n",
       "      <th>height</th>\n",
       "      <th>bmi</th>\n",
       "    </tr>\n",
       "  </thead>\n",
       "  <tbody>\n",
       "    <tr>\n",
       "      <th>0</th>\n",
       "      <td>Brittany Cruz</td>\n",
       "      <td>22.0</td>\n",
       "      <td>77.877326</td>\n",
       "      <td>8175 Johnson Lights\\nAntonioshire, NM 28434</td>\n",
       "      <td>-54.3591115</td>\n",
       "      <td>-148.469922</td>\n",
       "      <td>166.936423</td>\n",
       "      <td>27.945303</td>\n",
       "    </tr>\n",
       "    <tr>\n",
       "      <th>1</th>\n",
       "      <td>John Sandoval</td>\n",
       "      <td>94.0</td>\n",
       "      <td>65.701590</td>\n",
       "      <td>72969 Brittany Springs Apt. 179\\nWest Jared, M...</td>\n",
       "      <td>45.7271635</td>\n",
       "      <td>66.278284</td>\n",
       "      <td>198.219051</td>\n",
       "      <td>16.721880</td>\n",
       "    </tr>\n",
       "    <tr>\n",
       "      <th>2</th>\n",
       "      <td>Barbara Sampson</td>\n",
       "      <td>55.0</td>\n",
       "      <td>67.150671</td>\n",
       "      <td>6113 Leonard Stravenue Suite 556\\nRamirezberg,...</td>\n",
       "      <td>57.952590</td>\n",
       "      <td>63.920872</td>\n",
       "      <td>190.515480</td>\n",
       "      <td>18.500770</td>\n",
       "    </tr>\n",
       "    <tr>\n",
       "      <th>3</th>\n",
       "      <td>Russell Roberts</td>\n",
       "      <td>19.0</td>\n",
       "      <td>84.609809</td>\n",
       "      <td>454 Kerr Branch\\nTonyahaven, KS 80345</td>\n",
       "      <td>-14.983938</td>\n",
       "      <td>167.866814</td>\n",
       "      <td>186.969261</td>\n",
       "      <td>24.203618</td>\n",
       "    </tr>\n",
       "    <tr>\n",
       "      <th>4</th>\n",
       "      <td>Lisa Hunter</td>\n",
       "      <td>34.0</td>\n",
       "      <td>84.153316</td>\n",
       "      <td>73630 David Place Apt. 107\\nNorth Tonifurt, NH...</td>\n",
       "      <td>-53.6979695</td>\n",
       "      <td>100.742393</td>\n",
       "      <td>183.987169</td>\n",
       "      <td>24.859716</td>\n",
       "    </tr>\n",
       "    <tr>\n",
       "      <th>5</th>\n",
       "      <td>Lindsay Riley</td>\n",
       "      <td>94.0</td>\n",
       "      <td>81.206383</td>\n",
       "      <td>9616 Pennington Ramp\\nEast Trevorside, TN 92788</td>\n",
       "      <td>-8.487418</td>\n",
       "      <td>-48.792926</td>\n",
       "      <td>183.388461</td>\n",
       "      <td>24.146053</td>\n",
       "    </tr>\n",
       "    <tr>\n",
       "      <th>6</th>\n",
       "      <td>Nicholas Wang</td>\n",
       "      <td>18.0</td>\n",
       "      <td>91.393540</td>\n",
       "      <td>412 Rodriguez Pass Apt. 261\\nMoralesmouth, OK ...</td>\n",
       "      <td>-12.606679</td>\n",
       "      <td>158.087276</td>\n",
       "      <td>147.903891</td>\n",
       "      <td>41.778832</td>\n",
       "    </tr>\n",
       "    <tr>\n",
       "      <th>7</th>\n",
       "      <td>Taylor Mcintyre</td>\n",
       "      <td>41.0</td>\n",
       "      <td>76.972762</td>\n",
       "      <td>74839 Faulkner Centers Apt. 455\\nLake Ashleysi...</td>\n",
       "      <td>-24.490290</td>\n",
       "      <td>152.771228</td>\n",
       "      <td>165.717203</td>\n",
       "      <td>28.028631</td>\n",
       "    </tr>\n",
       "    <tr>\n",
       "      <th>8</th>\n",
       "      <td>Joel Thompson MD</td>\n",
       "      <td>50.0</td>\n",
       "      <td>91.331490</td>\n",
       "      <td>470 Betty Estates Apt. 266\\nNew Luismouth, NY ...</td>\n",
       "      <td>34.0561295</td>\n",
       "      <td>-127.524357</td>\n",
       "      <td>171.660020</td>\n",
       "      <td>30.994328</td>\n",
       "    </tr>\n",
       "    <tr>\n",
       "      <th>9</th>\n",
       "      <td>Kimberly Gordon</td>\n",
       "      <td>37.0</td>\n",
       "      <td>79.134484</td>\n",
       "      <td>3243 Amanda Hill\\nMorganside, IN 37156</td>\n",
       "      <td>77.314072</td>\n",
       "      <td>69.972776</td>\n",
       "      <td>168.144795</td>\n",
       "      <td>27.989743</td>\n",
       "    </tr>\n",
       "    <tr>\n",
       "      <th>10</th>\n",
       "      <td>John Tran</td>\n",
       "      <td>64.0</td>\n",
       "      <td>65.461841</td>\n",
       "      <td>3106 Dougherty Pine Apt. 316\\nLake Jordan, MH ...</td>\n",
       "      <td>3.8627105</td>\n",
       "      <td>45.335814</td>\n",
       "      <td>153.988042</td>\n",
       "      <td>27.606682</td>\n",
       "    </tr>\n",
       "    <tr>\n",
       "      <th>11</th>\n",
       "      <td>Samuel Torres</td>\n",
       "      <td>81.0</td>\n",
       "      <td>68.802763</td>\n",
       "      <td>069 Martinez Fork Apt. 466\\nWest Caroline, WA ...</td>\n",
       "      <td>-79.014952</td>\n",
       "      <td>-143.572179</td>\n",
       "      <td>189.569232</td>\n",
       "      <td>19.145653</td>\n",
       "    </tr>\n",
       "    <tr>\n",
       "      <th>12</th>\n",
       "      <td>Charlene Wheeler</td>\n",
       "      <td>25.0</td>\n",
       "      <td>89.952793</td>\n",
       "      <td>1856 Danielle Islands\\nLake Devinmouth, HI 28879</td>\n",
       "      <td>42.6837455</td>\n",
       "      <td>-60.871225</td>\n",
       "      <td>187.461945</td>\n",
       "      <td>25.596962</td>\n",
       "    </tr>\n",
       "    <tr>\n",
       "      <th>13</th>\n",
       "      <td>Tom Vaughn</td>\n",
       "      <td>84.0</td>\n",
       "      <td>73.728716</td>\n",
       "      <td>607 Caldwell Village\\nWest Angelaview, KS 67174</td>\n",
       "      <td>-59.908791</td>\n",
       "      <td>-61.470433</td>\n",
       "      <td>161.981376</td>\n",
       "      <td>28.100012</td>\n",
       "    </tr>\n",
       "    <tr>\n",
       "      <th>14</th>\n",
       "      <td>Christina Reese</td>\n",
       "      <td>93.0</td>\n",
       "      <td>65.893178</td>\n",
       "      <td>40961 Perry Heights\\nEast Theodoreburgh, FL 36280</td>\n",
       "      <td>79.6793965</td>\n",
       "      <td>-42.012028</td>\n",
       "      <td>165.346852</td>\n",
       "      <td>24.101751</td>\n",
       "    </tr>\n",
       "    <tr>\n",
       "      <th>15</th>\n",
       "      <td>John Brown</td>\n",
       "      <td>18.0</td>\n",
       "      <td>93.750885</td>\n",
       "      <td>39451 James Union\\nNew Ashleytown, TX 35167</td>\n",
       "      <td>-50.624330</td>\n",
       "      <td>-136.978374</td>\n",
       "      <td>171.297997</td>\n",
       "      <td>31.949996</td>\n",
       "    </tr>\n",
       "    <tr>\n",
       "      <th>16</th>\n",
       "      <td>Timothy Ellis</td>\n",
       "      <td>42.0</td>\n",
       "      <td>63.821122</td>\n",
       "      <td>164 Gonzalez Lodge\\nPort Monicaside, KY 82574</td>\n",
       "      <td>26.8609905</td>\n",
       "      <td>178.805162</td>\n",
       "      <td>189.094423</td>\n",
       "      <td>17.848717</td>\n",
       "    </tr>\n",
       "    <tr>\n",
       "      <th>17</th>\n",
       "      <td>Thomas Harvey</td>\n",
       "      <td>68.0</td>\n",
       "      <td>67.756310</td>\n",
       "      <td>1366 Reyes Parkways\\nNew Gabriellaburgh, GU 73425</td>\n",
       "      <td>-21.321367</td>\n",
       "      <td>-152.250278</td>\n",
       "      <td>157.529618</td>\n",
       "      <td>27.303939</td>\n",
       "    </tr>\n",
       "    <tr>\n",
       "      <th>18</th>\n",
       "      <td>Whitney Juarez</td>\n",
       "      <td>85.0</td>\n",
       "      <td>96.427395</td>\n",
       "      <td>02059 Jacob Rest\\nWest Stacey, MI 17995</td>\n",
       "      <td>19.749054</td>\n",
       "      <td>-56.671314</td>\n",
       "      <td>155.147642</td>\n",
       "      <td>40.059920</td>\n",
       "    </tr>\n",
       "    <tr>\n",
       "      <th>19</th>\n",
       "      <td>Charles Fowler</td>\n",
       "      <td>45.0</td>\n",
       "      <td>87.686055</td>\n",
       "      <td>522 Megan Street\\nDeborahhaven, FL 16947</td>\n",
       "      <td>25.6516635</td>\n",
       "      <td>149.127098</td>\n",
       "      <td>196.835389</td>\n",
       "      <td>22.632064</td>\n",
       "    </tr>\n",
       "    <tr>\n",
       "      <th>20</th>\n",
       "      <td>Adam Kennedy</td>\n",
       "      <td>65.0</td>\n",
       "      <td>87.567540</td>\n",
       "      <td>830 Garcia Rest Suite 902\\nEast Kathleenberg, ...</td>\n",
       "      <td>-12.5440865</td>\n",
       "      <td>-103.320546</td>\n",
       "      <td>181.331166</td>\n",
       "      <td>26.631660</td>\n",
       "    </tr>\n",
       "    <tr>\n",
       "      <th>21</th>\n",
       "      <td>Sean Smith</td>\n",
       "      <td>78.0</td>\n",
       "      <td>86.914106</td>\n",
       "      <td>031 Chris Camp\\nNew Scott, KS 46083</td>\n",
       "      <td>52.2901495</td>\n",
       "      <td>-171.135782</td>\n",
       "      <td>166.468673</td>\n",
       "      <td>31.363551</td>\n",
       "    </tr>\n",
       "    <tr>\n",
       "      <th>22</th>\n",
       "      <td>Jennifer King</td>\n",
       "      <td>67.0</td>\n",
       "      <td>91.193900</td>\n",
       "      <td>7513 Berg Grove\\nWest Vincentland, VT 42811</td>\n",
       "      <td>5.5058835</td>\n",
       "      <td>-78.870507</td>\n",
       "      <td>187.772934</td>\n",
       "      <td>25.864245</td>\n",
       "    </tr>\n",
       "    <tr>\n",
       "      <th>23</th>\n",
       "      <td>Krista Hart</td>\n",
       "      <td>50.0</td>\n",
       "      <td>79.958044</td>\n",
       "      <td>46866 Henry Plaza\\nRoymouth, MI 44294</td>\n",
       "      <td>-29.776902</td>\n",
       "      <td>-13.717795</td>\n",
       "      <td>176.894861</td>\n",
       "      <td>25.552402</td>\n",
       "    </tr>\n",
       "    <tr>\n",
       "      <th>24</th>\n",
       "      <td>Brittney Lewis</td>\n",
       "      <td>35.0</td>\n",
       "      <td>90.876196</td>\n",
       "      <td>641 Montes Row\\nWest Robertohaven, NV 02681</td>\n",
       "      <td>-81.6959365</td>\n",
       "      <td>-34.155322</td>\n",
       "      <td>183.753772</td>\n",
       "      <td>26.913961</td>\n",
       "    </tr>\n",
       "    <tr>\n",
       "      <th>25</th>\n",
       "      <td>Sabrina Sanders</td>\n",
       "      <td>35.0</td>\n",
       "      <td>67.848486</td>\n",
       "      <td>8815 Savannah Squares\\nBarbaramouth, NJ 85393</td>\n",
       "      <td>70.3213845</td>\n",
       "      <td>-57.307107</td>\n",
       "      <td>168.525689</td>\n",
       "      <td>23.889549</td>\n",
       "    </tr>\n",
       "    <tr>\n",
       "      <th>26</th>\n",
       "      <td>Monica Collins</td>\n",
       "      <td>41.0</td>\n",
       "      <td>65.824973</td>\n",
       "      <td>Unit 1104 Box 1693\\nDPO AA 32424</td>\n",
       "      <td>78.443657</td>\n",
       "      <td>-36.571229</td>\n",
       "      <td>187.874684</td>\n",
       "      <td>18.648941</td>\n",
       "    </tr>\n",
       "    <tr>\n",
       "      <th>27</th>\n",
       "      <td>Amy Alvarado</td>\n",
       "      <td>37.0</td>\n",
       "      <td>76.734853</td>\n",
       "      <td>7631 Torres Walk\\nThomasville, ME 28751</td>\n",
       "      <td>71.041813</td>\n",
       "      <td>23.522629</td>\n",
       "      <td>182.300089</td>\n",
       "      <td>23.089733</td>\n",
       "    </tr>\n",
       "    <tr>\n",
       "      <th>28</th>\n",
       "      <td>Rebecca Mckinney</td>\n",
       "      <td>77.0</td>\n",
       "      <td>87.532361</td>\n",
       "      <td>72131 Lori Mills Apt. 174\\nWest Brendaville, C...</td>\n",
       "      <td>-27.014411</td>\n",
       "      <td>-85.296773</td>\n",
       "      <td>176.877594</td>\n",
       "      <td>27.978408</td>\n",
       "    </tr>\n",
       "    <tr>\n",
       "      <th>29</th>\n",
       "      <td>Stephanie Anderson</td>\n",
       "      <td>18.0</td>\n",
       "      <td>85.229540</td>\n",
       "      <td>42759 William Isle Apt. 897\\nTimothyland, KS 8...</td>\n",
       "      <td>46.0200405</td>\n",
       "      <td>-54.642317</td>\n",
       "      <td>206.358017</td>\n",
       "      <td>20.014625</td>\n",
       "    </tr>\n",
       "    <tr>\n",
       "      <th>30</th>\n",
       "      <td>Taylor Sanders</td>\n",
       "      <td>24.0</td>\n",
       "      <td>80.696190</td>\n",
       "      <td>62726 Walsh Shores Apt. 434\\nEast John, WI 28477</td>\n",
       "      <td>54.5087855</td>\n",
       "      <td>141.687205</td>\n",
       "      <td>181.520894</td>\n",
       "      <td>24.490620</td>\n",
       "    </tr>\n",
       "    <tr>\n",
       "      <th>31</th>\n",
       "      <td>Mrs. Jennifer Brown MD</td>\n",
       "      <td>57.0</td>\n",
       "      <td>94.222252</td>\n",
       "      <td>42187 Chandler Hills\\nLeeburgh, SC 32408</td>\n",
       "      <td>-19.185244</td>\n",
       "      <td>170.305178</td>\n",
       "      <td>165.694370</td>\n",
       "      <td>34.319265</td>\n",
       "    </tr>\n",
       "    <tr>\n",
       "      <th>32</th>\n",
       "      <td>Angela Hodge</td>\n",
       "      <td>73.0</td>\n",
       "      <td>67.823953</td>\n",
       "      <td>PSC 0737, Box 8462\\nAPO AA 12667</td>\n",
       "      <td>38.860168</td>\n",
       "      <td>59.893344</td>\n",
       "      <td>151.192063</td>\n",
       "      <td>29.670517</td>\n",
       "    </tr>\n",
       "    <tr>\n",
       "      <th>33</th>\n",
       "      <td>Kayla Flores</td>\n",
       "      <td>53.0</td>\n",
       "      <td>67.253393</td>\n",
       "      <td>Unit 1955 Box 5120\\nDPO AP 81287</td>\n",
       "      <td>-66.9546295</td>\n",
       "      <td>167.080103</td>\n",
       "      <td>219.368109</td>\n",
       "      <td>13.975496</td>\n",
       "    </tr>\n",
       "    <tr>\n",
       "      <th>34</th>\n",
       "      <td>Tammy Gill</td>\n",
       "      <td>59.0</td>\n",
       "      <td>61.408329</td>\n",
       "      <td>18963 Smith Skyway\\nEast Erica, MD 65460</td>\n",
       "      <td>-60.0239475</td>\n",
       "      <td>35.502085</td>\n",
       "      <td>180.867450</td>\n",
       "      <td>18.771823</td>\n",
       "    </tr>\n",
       "    <tr>\n",
       "      <th>35</th>\n",
       "      <td>Erin Davis</td>\n",
       "      <td>73.0</td>\n",
       "      <td>96.441781</td>\n",
       "      <td>4508 Santos Creek Apt. 244\\nNorth Maria, RI 15142</td>\n",
       "      <td>-35.903757</td>\n",
       "      <td>-21.863504</td>\n",
       "      <td>200.972532</td>\n",
       "      <td>23.877663</td>\n",
       "    </tr>\n",
       "    <tr>\n",
       "      <th>36</th>\n",
       "      <td>Paul Donovan</td>\n",
       "      <td>86.0</td>\n",
       "      <td>68.272812</td>\n",
       "      <td>557 Courtney Shores Apt. 029\\nRichardville, PA...</td>\n",
       "      <td>1.412957</td>\n",
       "      <td>-76.216731</td>\n",
       "      <td>215.561249</td>\n",
       "      <td>14.692862</td>\n",
       "    </tr>\n",
       "    <tr>\n",
       "      <th>37</th>\n",
       "      <td>Sheila Tucker</td>\n",
       "      <td>35.0</td>\n",
       "      <td>88.128944</td>\n",
       "      <td>98304 Vang Point Apt. 628\\nHicksshire, AS 65623</td>\n",
       "      <td>-34.0168215</td>\n",
       "      <td>-171.309587</td>\n",
       "      <td>214.655708</td>\n",
       "      <td>19.126420</td>\n",
       "    </tr>\n",
       "    <tr>\n",
       "      <th>38</th>\n",
       "      <td>Andrew Allen</td>\n",
       "      <td>26.0</td>\n",
       "      <td>87.012944</td>\n",
       "      <td>USS Wood\\nFPO AE 52302</td>\n",
       "      <td>4.6974855</td>\n",
       "      <td>56.022797</td>\n",
       "      <td>192.709431</td>\n",
       "      <td>23.430304</td>\n",
       "    </tr>\n",
       "    <tr>\n",
       "      <th>39</th>\n",
       "      <td>Dr. Cody Ayala</td>\n",
       "      <td>53.0</td>\n",
       "      <td>69.197035</td>\n",
       "      <td>0971 Kimberly Forge Apt. 723\\nPort Joseph, IL ...</td>\n",
       "      <td>-48.756133</td>\n",
       "      <td>-45.913673</td>\n",
       "      <td>182.466125</td>\n",
       "      <td>20.783706</td>\n",
       "    </tr>\n",
       "    <tr>\n",
       "      <th>40</th>\n",
       "      <td>Hannah Wright</td>\n",
       "      <td>79.0</td>\n",
       "      <td>70.156031</td>\n",
       "      <td>5832 Kelly Field\\nLewisshire, IN 47879</td>\n",
       "      <td>-2.6402945</td>\n",
       "      <td>-167.579946</td>\n",
       "      <td>182.267866</td>\n",
       "      <td>21.117611</td>\n",
       "    </tr>\n",
       "    <tr>\n",
       "      <th>41</th>\n",
       "      <td>Justin Parker</td>\n",
       "      <td>78.0</td>\n",
       "      <td>79.244463</td>\n",
       "      <td>880 Ortega Forks\\nEast Amberville, ID 65174</td>\n",
       "      <td>16.872867</td>\n",
       "      <td>-25.834788</td>\n",
       "      <td>188.458517</td>\n",
       "      <td>22.311943</td>\n",
       "    </tr>\n",
       "    <tr>\n",
       "      <th>42</th>\n",
       "      <td>Sandra Nelson</td>\n",
       "      <td>79.0</td>\n",
       "      <td>81.364769</td>\n",
       "      <td>4332 Linda Shores Apt. 795\\nStewartchester, PW...</td>\n",
       "      <td>-24.8443075</td>\n",
       "      <td>33.702522</td>\n",
       "      <td>194.071580</td>\n",
       "      <td>21.602923</td>\n",
       "    </tr>\n",
       "    <tr>\n",
       "      <th>43</th>\n",
       "      <td>Courtney Cherry</td>\n",
       "      <td>52.0</td>\n",
       "      <td>80.076561</td>\n",
       "      <td>2987 Jenkins Heights Apt. 572\\nLake Tyler, NJ ...</td>\n",
       "      <td>-0.6973675</td>\n",
       "      <td>42.395113</td>\n",
       "      <td>152.787676</td>\n",
       "      <td>34.302736</td>\n",
       "    </tr>\n",
       "    <tr>\n",
       "      <th>44</th>\n",
       "      <td>Lori Lawrence</td>\n",
       "      <td>73.0</td>\n",
       "      <td>77.699762</td>\n",
       "      <td>816 Michael Trail\\nLauriehaven, MI 99312</td>\n",
       "      <td>63.604216</td>\n",
       "      <td>158.381799</td>\n",
       "      <td>186.418277</td>\n",
       "      <td>22.358502</td>\n",
       "    </tr>\n",
       "    <tr>\n",
       "      <th>45</th>\n",
       "      <td>Andrea Crawford</td>\n",
       "      <td>50.0</td>\n",
       "      <td>99.315162</td>\n",
       "      <td>136 Webb Hill Suite 975\\nPort Matthew, DE 36454</td>\n",
       "      <td>-27.4533355</td>\n",
       "      <td>19.756487</td>\n",
       "      <td>202.612003</td>\n",
       "      <td>24.192749</td>\n",
       "    </tr>\n",
       "    <tr>\n",
       "      <th>46</th>\n",
       "      <td>Raymond Medina</td>\n",
       "      <td>90.0</td>\n",
       "      <td>89.458686</td>\n",
       "      <td>8423 Sullivan Knoll Apt. 595\\nNunezport, KS 37998</td>\n",
       "      <td>-59.6142715</td>\n",
       "      <td>124.655285</td>\n",
       "      <td>193.595885</td>\n",
       "      <td>23.868783</td>\n",
       "    </tr>\n",
       "    <tr>\n",
       "      <th>47</th>\n",
       "      <td>Lisa Burns</td>\n",
       "      <td>94.0</td>\n",
       "      <td>68.340413</td>\n",
       "      <td>55808 Alexander Rapids Suite 672\\nSouth Joseph...</td>\n",
       "      <td>-51.4470545</td>\n",
       "      <td>-102.110814</td>\n",
       "      <td>159.954370</td>\n",
       "      <td>26.710707</td>\n",
       "    </tr>\n",
       "    <tr>\n",
       "      <th>48</th>\n",
       "      <td>Allison Butler</td>\n",
       "      <td>58.0</td>\n",
       "      <td>76.481462</td>\n",
       "      <td>50111 Brent Corner\\nPort Melinda, AS 21032</td>\n",
       "      <td>-67.5704945</td>\n",
       "      <td>12.459147</td>\n",
       "      <td>186.966228</td>\n",
       "      <td>21.879120</td>\n",
       "    </tr>\n",
       "    <tr>\n",
       "      <th>49</th>\n",
       "      <td>Daniel Nelson</td>\n",
       "      <td>89.0</td>\n",
       "      <td>66.641595</td>\n",
       "      <td>PSC 0855, Box 1200\\nAPO AA 29021</td>\n",
       "      <td>-65.756592</td>\n",
       "      <td>20.696511</td>\n",
       "      <td>185.295647</td>\n",
       "      <td>19.409527</td>\n",
       "    </tr>\n",
       "  </tbody>\n",
       "</table>\n",
       "</div>"
      ],
      "text/plain": [
       "                      name   age     Weight  \\\n",
       "0            Brittany Cruz  22.0  77.877326   \n",
       "1            John Sandoval  94.0  65.701590   \n",
       "2          Barbara Sampson  55.0  67.150671   \n",
       "3          Russell Roberts  19.0  84.609809   \n",
       "4              Lisa Hunter  34.0  84.153316   \n",
       "5            Lindsay Riley  94.0  81.206383   \n",
       "6            Nicholas Wang  18.0  91.393540   \n",
       "7          Taylor Mcintyre  41.0  76.972762   \n",
       "8         Joel Thompson MD  50.0  91.331490   \n",
       "9          Kimberly Gordon  37.0  79.134484   \n",
       "10               John Tran  64.0  65.461841   \n",
       "11           Samuel Torres  81.0  68.802763   \n",
       "12        Charlene Wheeler  25.0  89.952793   \n",
       "13              Tom Vaughn  84.0  73.728716   \n",
       "14         Christina Reese  93.0  65.893178   \n",
       "15              John Brown  18.0  93.750885   \n",
       "16           Timothy Ellis  42.0  63.821122   \n",
       "17           Thomas Harvey  68.0  67.756310   \n",
       "18          Whitney Juarez  85.0  96.427395   \n",
       "19          Charles Fowler  45.0  87.686055   \n",
       "20            Adam Kennedy  65.0  87.567540   \n",
       "21              Sean Smith  78.0  86.914106   \n",
       "22           Jennifer King  67.0  91.193900   \n",
       "23             Krista Hart  50.0  79.958044   \n",
       "24          Brittney Lewis  35.0  90.876196   \n",
       "25         Sabrina Sanders  35.0  67.848486   \n",
       "26          Monica Collins  41.0  65.824973   \n",
       "27            Amy Alvarado  37.0  76.734853   \n",
       "28        Rebecca Mckinney  77.0  87.532361   \n",
       "29      Stephanie Anderson  18.0  85.229540   \n",
       "30          Taylor Sanders  24.0  80.696190   \n",
       "31  Mrs. Jennifer Brown MD  57.0  94.222252   \n",
       "32            Angela Hodge  73.0  67.823953   \n",
       "33            Kayla Flores  53.0  67.253393   \n",
       "34              Tammy Gill  59.0  61.408329   \n",
       "35              Erin Davis  73.0  96.441781   \n",
       "36            Paul Donovan  86.0  68.272812   \n",
       "37           Sheila Tucker  35.0  88.128944   \n",
       "38            Andrew Allen  26.0  87.012944   \n",
       "39          Dr. Cody Ayala  53.0  69.197035   \n",
       "40           Hannah Wright  79.0  70.156031   \n",
       "41           Justin Parker  78.0  79.244463   \n",
       "42           Sandra Nelson  79.0  81.364769   \n",
       "43         Courtney Cherry  52.0  80.076561   \n",
       "44           Lori Lawrence  73.0  77.699762   \n",
       "45         Andrea Crawford  50.0  99.315162   \n",
       "46          Raymond Medina  90.0  89.458686   \n",
       "47              Lisa Burns  94.0  68.340413   \n",
       "48          Allison Butler  58.0  76.481462   \n",
       "49           Daniel Nelson  89.0  66.641595   \n",
       "\n",
       "                                              address     latitude  \\\n",
       "0         8175 Johnson Lights\\nAntonioshire, NM 28434  -54.3591115   \n",
       "1   72969 Brittany Springs Apt. 179\\nWest Jared, M...   45.7271635   \n",
       "2   6113 Leonard Stravenue Suite 556\\nRamirezberg,...    57.952590   \n",
       "3               454 Kerr Branch\\nTonyahaven, KS 80345   -14.983938   \n",
       "4   73630 David Place Apt. 107\\nNorth Tonifurt, NH...  -53.6979695   \n",
       "5     9616 Pennington Ramp\\nEast Trevorside, TN 92788    -8.487418   \n",
       "6   412 Rodriguez Pass Apt. 261\\nMoralesmouth, OK ...   -12.606679   \n",
       "7   74839 Faulkner Centers Apt. 455\\nLake Ashleysi...   -24.490290   \n",
       "8   470 Betty Estates Apt. 266\\nNew Luismouth, NY ...   34.0561295   \n",
       "9              3243 Amanda Hill\\nMorganside, IN 37156    77.314072   \n",
       "10  3106 Dougherty Pine Apt. 316\\nLake Jordan, MH ...    3.8627105   \n",
       "11  069 Martinez Fork Apt. 466\\nWest Caroline, WA ...   -79.014952   \n",
       "12   1856 Danielle Islands\\nLake Devinmouth, HI 28879   42.6837455   \n",
       "13    607 Caldwell Village\\nWest Angelaview, KS 67174   -59.908791   \n",
       "14  40961 Perry Heights\\nEast Theodoreburgh, FL 36280   79.6793965   \n",
       "15        39451 James Union\\nNew Ashleytown, TX 35167   -50.624330   \n",
       "16      164 Gonzalez Lodge\\nPort Monicaside, KY 82574   26.8609905   \n",
       "17  1366 Reyes Parkways\\nNew Gabriellaburgh, GU 73425   -21.321367   \n",
       "18            02059 Jacob Rest\\nWest Stacey, MI 17995    19.749054   \n",
       "19           522 Megan Street\\nDeborahhaven, FL 16947   25.6516635   \n",
       "20  830 Garcia Rest Suite 902\\nEast Kathleenberg, ...  -12.5440865   \n",
       "21                031 Chris Camp\\nNew Scott, KS 46083   52.2901495   \n",
       "22        7513 Berg Grove\\nWest Vincentland, VT 42811    5.5058835   \n",
       "23              46866 Henry Plaza\\nRoymouth, MI 44294   -29.776902   \n",
       "24        641 Montes Row\\nWest Robertohaven, NV 02681  -81.6959365   \n",
       "25      8815 Savannah Squares\\nBarbaramouth, NJ 85393   70.3213845   \n",
       "26                   Unit 1104 Box 1693\\nDPO AA 32424    78.443657   \n",
       "27            7631 Torres Walk\\nThomasville, ME 28751    71.041813   \n",
       "28  72131 Lori Mills Apt. 174\\nWest Brendaville, C...   -27.014411   \n",
       "29  42759 William Isle Apt. 897\\nTimothyland, KS 8...   46.0200405   \n",
       "30   62726 Walsh Shores Apt. 434\\nEast John, WI 28477   54.5087855   \n",
       "31           42187 Chandler Hills\\nLeeburgh, SC 32408   -19.185244   \n",
       "32                   PSC 0737, Box 8462\\nAPO AA 12667    38.860168   \n",
       "33                   Unit 1955 Box 5120\\nDPO AP 81287  -66.9546295   \n",
       "34           18963 Smith Skyway\\nEast Erica, MD 65460  -60.0239475   \n",
       "35  4508 Santos Creek Apt. 244\\nNorth Maria, RI 15142   -35.903757   \n",
       "36  557 Courtney Shores Apt. 029\\nRichardville, PA...     1.412957   \n",
       "37    98304 Vang Point Apt. 628\\nHicksshire, AS 65623  -34.0168215   \n",
       "38                             USS Wood\\nFPO AE 52302    4.6974855   \n",
       "39  0971 Kimberly Forge Apt. 723\\nPort Joseph, IL ...   -48.756133   \n",
       "40             5832 Kelly Field\\nLewisshire, IN 47879   -2.6402945   \n",
       "41        880 Ortega Forks\\nEast Amberville, ID 65174    16.872867   \n",
       "42  4332 Linda Shores Apt. 795\\nStewartchester, PW...  -24.8443075   \n",
       "43  2987 Jenkins Heights Apt. 572\\nLake Tyler, NJ ...   -0.6973675   \n",
       "44           816 Michael Trail\\nLauriehaven, MI 99312    63.604216   \n",
       "45    136 Webb Hill Suite 975\\nPort Matthew, DE 36454  -27.4533355   \n",
       "46  8423 Sullivan Knoll Apt. 595\\nNunezport, KS 37998  -59.6142715   \n",
       "47  55808 Alexander Rapids Suite 672\\nSouth Joseph...  -51.4470545   \n",
       "48         50111 Brent Corner\\nPort Melinda, AS 21032  -67.5704945   \n",
       "49                   PSC 0855, Box 1200\\nAPO AA 29021   -65.756592   \n",
       "\n",
       "      longitude      height        bmi  \n",
       "0   -148.469922  166.936423  27.945303  \n",
       "1     66.278284  198.219051  16.721880  \n",
       "2     63.920872  190.515480  18.500770  \n",
       "3    167.866814  186.969261  24.203618  \n",
       "4    100.742393  183.987169  24.859716  \n",
       "5    -48.792926  183.388461  24.146053  \n",
       "6    158.087276  147.903891  41.778832  \n",
       "7    152.771228  165.717203  28.028631  \n",
       "8   -127.524357  171.660020  30.994328  \n",
       "9     69.972776  168.144795  27.989743  \n",
       "10    45.335814  153.988042  27.606682  \n",
       "11  -143.572179  189.569232  19.145653  \n",
       "12   -60.871225  187.461945  25.596962  \n",
       "13   -61.470433  161.981376  28.100012  \n",
       "14   -42.012028  165.346852  24.101751  \n",
       "15  -136.978374  171.297997  31.949996  \n",
       "16   178.805162  189.094423  17.848717  \n",
       "17  -152.250278  157.529618  27.303939  \n",
       "18   -56.671314  155.147642  40.059920  \n",
       "19   149.127098  196.835389  22.632064  \n",
       "20  -103.320546  181.331166  26.631660  \n",
       "21  -171.135782  166.468673  31.363551  \n",
       "22   -78.870507  187.772934  25.864245  \n",
       "23   -13.717795  176.894861  25.552402  \n",
       "24   -34.155322  183.753772  26.913961  \n",
       "25   -57.307107  168.525689  23.889549  \n",
       "26   -36.571229  187.874684  18.648941  \n",
       "27    23.522629  182.300089  23.089733  \n",
       "28   -85.296773  176.877594  27.978408  \n",
       "29   -54.642317  206.358017  20.014625  \n",
       "30   141.687205  181.520894  24.490620  \n",
       "31   170.305178  165.694370  34.319265  \n",
       "32    59.893344  151.192063  29.670517  \n",
       "33   167.080103  219.368109  13.975496  \n",
       "34    35.502085  180.867450  18.771823  \n",
       "35   -21.863504  200.972532  23.877663  \n",
       "36   -76.216731  215.561249  14.692862  \n",
       "37  -171.309587  214.655708  19.126420  \n",
       "38    56.022797  192.709431  23.430304  \n",
       "39   -45.913673  182.466125  20.783706  \n",
       "40  -167.579946  182.267866  21.117611  \n",
       "41   -25.834788  188.458517  22.311943  \n",
       "42    33.702522  194.071580  21.602923  \n",
       "43    42.395113  152.787676  34.302736  \n",
       "44   158.381799  186.418277  22.358502  \n",
       "45    19.756487  202.612003  24.192749  \n",
       "46   124.655285  193.595885  23.868783  \n",
       "47  -102.110814  159.954370  26.710707  \n",
       "48    12.459147  186.966228  21.879120  \n",
       "49    20.696511  185.295647  19.409527  "
      ]
     },
     "execution_count": 37,
     "metadata": {},
     "output_type": "execute_result"
    }
   ],
   "source": [
    "#Your Solution\n",
    "from random import randint\n",
    "import pandas as pd\n",
    "import random\n",
    "import numpy.random as rnd\n",
    "\n",
    "fake = Faker()\n",
    "\n",
    "def input_data(n_rows):\n",
    "\n",
    "    # pandas dataframe\n",
    "    data = pd.DataFrame()\n",
    "    for i in range(0, n_rows):\n",
    "        data.loc[i,'name']= fake.name()\n",
    "        data.loc[i,'age']= fake.random_int(18, 100)\n",
    "        data.loc[i,'Weight']= random.uniform(60, 100)\n",
    "        data.loc[i,'address']= fake.address()\n",
    "        data.loc[i,'latitude']= str(fake.latitude())\n",
    "        data.loc[i,'longitude']= str(fake.longitude())\n",
    "        data.loc[i,'height']= rnd.normal(180, 15.5)\n",
    "        data.loc[i,'bmi']= data.loc[i,'Weight'] / ((data.loc[i,'height']/100)**2)\n",
    "        \n",
    "    return data\n",
    "\n",
    "\n",
    "input_data(50)"
   ]
  },
  {
   "cell_type": "code",
   "execution_count": null,
   "metadata": {},
   "outputs": [],
   "source": []
  }
 ],
 "metadata": {
  "colab": {
   "provenance": []
  },
  "kernelspec": {
   "display_name": "Python 3 (ipykernel)",
   "language": "python",
   "name": "python3"
  },
  "language_info": {
   "codemirror_mode": {
    "name": "ipython",
    "version": 3
   },
   "file_extension": ".py",
   "mimetype": "text/x-python",
   "name": "python",
   "nbconvert_exporter": "python",
   "pygments_lexer": "ipython3",
   "version": "3.12.3"
  }
 },
 "nbformat": 4,
 "nbformat_minor": 4
}
